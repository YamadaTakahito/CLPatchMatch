{
 "cells": [
  {
   "cell_type": "code",
   "execution_count": 5,
   "metadata": {},
   "outputs": [],
   "source": [
    "import patchmatch as pm\n",
    "import imageio\n",
    "\n",
    "import numpy as np"
   ]
  },
  {
   "cell_type": "code",
   "execution_count": 6,
   "metadata": {},
   "outputs": [],
   "source": [
    "def patch_match(source_img, target_img):\n",
    "    height, width, _ = source_img.shape\n",
    "    offsets = np.empty((height, width, 2), dtype=np.float32)\n",
    "    costs = np.empty((height, width), dtype=np.float32)\n",
    "\n",
    "    PATCHMATCH_SIZE = 8\n",
    "    MAX_OFFSET = 100\n",
    "    MIN_OFFSET = 10\n",
    "    pm.pm(source_img.astype(np.float32),\n",
    "          target_img.astype(np.float32),\n",
    "          offsets,\n",
    "          costs,\n",
    "          PATCHMATCH_SIZE,\n",
    "          MIN_OFFSET,\n",
    "          MAX_OFFSET)\n",
    "\n",
    "    return offsets[:, :, ::-1]"
   ]
  },
  {
   "cell_type": "code",
   "execution_count": 7,
   "metadata": {},
   "outputs": [],
   "source": [
    "imgs = []\n",
    "img = imageio.imread('bike_a.png')\n",
    "img = (img / 255).astype(np.float64)\n",
    "imgs.append(img)\n",
    "img = imageio.imread('bike_b.png')\n",
    "img = (img / 255).astype(np.float64)\n",
    "imgs.append(img)\n",
    "# lib_offsets = patch_match(imgs[0], imgs[1])\n",
    "# np.save('lib_offset.npy', lib_offsets)\n",
    "lib_offsets = np.load('lib_offset.npy')"
   ]
  },
  {
   "cell_type": "code",
   "execution_count": 8,
   "metadata": {},
   "outputs": [],
   "source": [
    "import os\n",
    "\n",
    "import pyopencl as cl\n",
    "\n",
    "os.environ['PYOPENCL_NO_CACHE'] = '1'\n",
    "os.environ[\"PYOPENCL_COMPILER_OUTPUT\"] = \"1\"\n",
    "\n",
    "filename = 'patchmatch.c'\n",
    "PATCH_SIZE = 8\n",
    "\n",
    "\n",
    "HEIGHT, WIDTH, _ = img.shape\n",
    "ctx = cl.create_some_context(False)\n",
    "queue = cl.CommandQueue(ctx)\n",
    "mf = cl.mem_flags\n",
    "program = cl.Program(ctx, open(filename).read()).build()\n",
    "\n",
    "# NNF_HEIGHT = HEIGHT - (HEIGHT % PATCH_SIZE)\n",
    "# NNF_WIDTH = WIDTH - (WIDTH % PATCH_SIZE)\n",
    "NNF_HEIGHT = HEIGHT - PATCH_SIZE\n",
    "NNF_WIDTH = WIDTH - PATCH_SIZE\n",
    "nnf = np.empty((NNF_HEIGHT, NNF_WIDTH, 3))"
   ]
  },
  {
   "cell_type": "code",
   "execution_count": 9,
   "metadata": {
    "scrolled": true
   },
   "outputs": [],
   "source": [
    "inputBuf = [cl.Buffer(ctx, mf.READ_ONLY | mf.COPY_HOST_PTR, hostbuf=imgs[i]) for i in range(2)]\n",
    "outputBuf = cl.Buffer(ctx, mf.WRITE_ONLY | mf.COPY_HOST_PTR, nnf.nbytes, hostbuf=nnf)\n",
    "\n",
    "GLOBAL_SIZE = (NNF_HEIGHT, NNF_WIDTH)\n",
    "program.randomfill(queue, GLOBAL_SIZE, None,\n",
    "                                np.int32(PATCH_SIZE),  # patchHeight\n",
    "                                np.int32(PATCH_SIZE),  # patchWidth\n",
    "                                np.int32(HEIGHT),  # height\n",
    "                                np.int32(WIDTH),  # width\n",
    "                                inputBuf[0],\n",
    "                                inputBuf[1],\n",
    "                                outputBuf)\n",
    "\n",
    "\n",
    "init_nnf = np.empty_like(nnf)\n",
    "cl.enqueue_copy(queue, init_nnf, outputBuf)\n",
    "nnf = np.copy(init_nnf)"
   ]
  },
  {
   "cell_type": "code",
   "execution_count": 10,
   "metadata": {},
   "outputs": [],
   "source": [
    "# mf = cl.mem_flags\n",
    "\n",
    "for i in range(20):\n",
    "    mf = cl.mem_flags\n",
    "    inputBuf = [cl.Buffer(ctx, mf.READ_ONLY | mf.COPY_HOST_PTR, hostbuf=imgs[i]) for i in range(2)]\n",
    "    outputBuf = cl.Buffer(ctx, mf.READ_WRITE | mf.COPY_HOST_PTR, nnf.nbytes, hostbuf=nnf)\n",
    "\n",
    "    ITER = i + 1\n",
    "    program.propagate(queue, GLOBAL_SIZE, None,\n",
    "                                   np.int32(PATCH_SIZE),  # patchHeight\n",
    "                                   np.int32(PATCH_SIZE),  # patchWidth\n",
    "                                   np.int32(HEIGHT),  # height\n",
    "                                   np.int32(WIDTH),  # width\n",
    "                                   np.int32(ITER),\n",
    "                                   inputBuf[0],\n",
    "                                   inputBuf[1],\n",
    "                                   outputBuf)\n",
    "\n",
    "\n",
    "    output_nnf = np.empty_like(nnf)\n",
    "    cl.enqueue_copy(queue, output_nnf, outputBuf)\n",
    "    nnf = output_nnf.copy()"
   ]
  },
  {
   "cell_type": "code",
   "execution_count": 26,
   "metadata": {
    "scrolled": true
   },
   "outputs": [
    {
     "data": {
      "text/plain": [
       "array([[[ 11.        ,  18.        ,  21.41370242],\n",
       "        [ 11.        ,  18.        ,  22.03818531],\n",
       "        [ 11.        ,  18.        ,  21.8549481 ],\n",
       "        ...,\n",
       "        [ 11.        ,  18.        ,  24.0064283 ],\n",
       "        [ 11.        ,  18.        ,  23.81996155],\n",
       "        [ 11.        ,  18.        ,  23.58881968]],\n",
       "\n",
       "       [[ 11.        ,  18.        ,  21.28535179],\n",
       "        [ 91.        , 186.        ,   9.19707805],\n",
       "        [ 83.        , 146.        ,  10.48324491],\n",
       "        ...,\n",
       "        [123.        , 114.        ,   7.62415994],\n",
       "        [ 67.        ,  66.        ,   8.12955017],\n",
       "        [ 35.        , 138.        ,  14.82314494]],\n",
       "\n",
       "       [[ 91.        , 186.        ,   9.79632449],\n",
       "        [ 83.        , 146.        ,  10.86103806],\n",
       "        [ 67.        ,  66.        ,   8.43283353],\n",
       "        ...,\n",
       "        [ 67.        ,  66.        ,   8.02637447],\n",
       "        [ 35.        , 138.        ,  15.14231449],\n",
       "        [139.        , 194.        ,  23.43243368]],\n",
       "\n",
       "       ...,\n",
       "\n",
       "       [[ 11.        ,  18.        ,  14.00765859],\n",
       "        [ 91.        , 186.        ,  16.4868589 ],\n",
       "        [  3.        , 210.        ,  11.08684352],\n",
       "        ...,\n",
       "        [ 59.        ,  26.        ,   0.95004998],\n",
       "        [ 19.        ,  58.        ,  11.36041522],\n",
       "        [107.        ,  34.        ,   1.73582468]],\n",
       "\n",
       "       [[ 91.        , 186.        ,  17.40790465],\n",
       "        [ 83.        , 146.        ,   8.84070742],\n",
       "        [155.        ,  58.        ,   0.73416378],\n",
       "        ...,\n",
       "        [ 83.        , 146.        ,   8.94932718],\n",
       "        [155.        ,  58.        ,   1.51494041],\n",
       "        [ 43.        , 178.        ,  20.89219531]],\n",
       "\n",
       "       [[  3.        , 210.        ,  11.4889504 ],\n",
       "        [163.        ,  98.        ,   0.71738562],\n",
       "        [ 59.        ,  26.        ,   0.60793541],\n",
       "        ...,\n",
       "        [ 27.        ,  98.        ,  15.4544406 ],\n",
       "        [123.        , 114.        ,   3.64761246],\n",
       "        [ 67.        ,  66.        ,   3.28246059]]])"
      ]
     },
     "execution_count": 26,
     "metadata": {},
     "output_type": "execute_result"
    }
   ],
   "source": [
    "tmp = nnf.copy()\n",
    "tmp"
   ]
  },
  {
   "cell_type": "code",
   "execution_count": 12,
   "metadata": {},
   "outputs": [
    {
     "data": {
      "text/plain": [
       "array([[[  1,   0,   0],\n",
       "        [  1,   1,   0],\n",
       "        [  4,  11,   0],\n",
       "        ...,\n",
       "        [ 19, 204,   0],\n",
       "        [ 19, 205,   0],\n",
       "        [ 19, 206,   0]],\n",
       "\n",
       "       [[  0,   0,   0],\n",
       "        [  5,  10,   0],\n",
       "        [  0,  14,   0],\n",
       "        ...,\n",
       "        [  1, 230,   0],\n",
       "        [  1, 230,   0],\n",
       "        [ 20, 206,   0]],\n",
       "\n",
       "       [[  1,   0,   0],\n",
       "        [  6,  10,   0],\n",
       "        [  1,  14,   0],\n",
       "        ...,\n",
       "        [  2, 228,   0],\n",
       "        [  2, 229,   0],\n",
       "        [  2, 230,   0]],\n",
       "\n",
       "       ...,\n",
       "\n",
       "       [[165,   0,   0],\n",
       "        [163,  11,   0],\n",
       "        [163,  12,   0],\n",
       "        ...,\n",
       "        [165, 228,   0],\n",
       "        [165, 229,   0],\n",
       "        [165, 230,   0]],\n",
       "\n",
       "       [[166,   0,   0],\n",
       "        [164,  11,   0],\n",
       "        [164,  12,   0],\n",
       "        ...,\n",
       "        [166, 228,   0],\n",
       "        [166, 229,   0],\n",
       "        [166, 230,   0]],\n",
       "\n",
       "       [[164,   3,   0],\n",
       "        [165,  11,   0],\n",
       "        [165,  12,   0],\n",
       "        ...,\n",
       "        [166, 229,   0],\n",
       "        [166, 230,   0],\n",
       "        [165, 229,   0]]])"
      ]
     },
     "execution_count": 12,
     "metadata": {},
     "output_type": "execute_result"
    }
   ],
   "source": [
    "nnf.astype(np.int)"
   ]
  },
  {
   "cell_type": "code",
   "execution_count": null,
   "metadata": {},
   "outputs": [],
   "source": [
    "grids = np.meshgrid(np.arange(NNF_WIDTH), np.arange(NNF_HEIGHT), indexing=\"xy\")\n",
    "cord = np.concatenate((grids[1][..., np.newaxis], grids[0][..., np.newaxis]), axis=2)"
   ]
  },
  {
   "cell_type": "code",
   "execution_count": null,
   "metadata": {
    "scrolled": true
   },
   "outputs": [],
   "source": [
    "a = nnf[:, :, :2] - cord\n",
    "a - lib_offsets.astype(np.int)[:NNF_HEIGHT, :NNF_WIDTH]"
   ]
  },
  {
   "cell_type": "code",
   "execution_count": null,
   "metadata": {
    "scrolled": true
   },
   "outputs": [],
   "source": [
    "lib_offsets.astype(np.int)[:NNF_HEIGHT, :NNF_WIDTH]"
   ]
  },
  {
   "cell_type": "code",
   "execution_count": null,
   "metadata": {},
   "outputs": [],
   "source": [
    "output_nnf.astype(np.int)"
   ]
  },
  {
   "cell_type": "code",
   "execution_count": null,
   "metadata": {},
   "outputs": [],
   "source": [
    "nnf"
   ]
  },
  {
   "cell_type": "code",
   "execution_count": null,
   "metadata": {
    "scrolled": true
   },
   "outputs": [],
   "source": [
    "nnf[100, 200]"
   ]
  },
  {
   "cell_type": "code",
   "execution_count": null,
   "metadata": {},
   "outputs": [],
   "source": [
    "lib_offsets[100, 210]"
   ]
  },
  {
   "cell_type": "code",
   "execution_count": null,
   "metadata": {},
   "outputs": [],
   "source": [
    "imgs[0][100, 200]"
   ]
  },
  {
   "cell_type": "code",
   "execution_count": null,
   "metadata": {},
   "outputs": [],
   "source": [
    "imgs[1][114, 207]"
   ]
  },
  {
   "cell_type": "code",
   "execution_count": null,
   "metadata": {},
   "outputs": [],
   "source": [
    "imgs[1][115, 201]"
   ]
  },
  {
   "cell_type": "code",
   "execution_count": null,
   "metadata": {},
   "outputs": [],
   "source": [
    "imgs[0].shape"
   ]
  },
  {
   "cell_type": "code",
   "execution_count": null,
   "metadata": {},
   "outputs": [],
   "source": []
  }
 ],
 "metadata": {
  "kernelspec": {
   "display_name": "Python 3",
   "language": "python",
   "name": "python3"
  },
  "language_info": {
   "codemirror_mode": {
    "name": "ipython",
    "version": 3
   },
   "file_extension": ".py",
   "mimetype": "text/x-python",
   "name": "python",
   "nbconvert_exporter": "python",
   "pygments_lexer": "ipython3",
   "version": "3.7.2"
  }
 },
 "nbformat": 4,
 "nbformat_minor": 2
}
