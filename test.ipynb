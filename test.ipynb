{
 "cells": [
  {
   "cell_type": "code",
   "execution_count": 49,
   "metadata": {},
   "outputs": [],
   "source": [
    "import patchmatch as pm\n",
    "import imageio\n",
    "\n",
    "import numpy as np"
   ]
  },
  {
   "cell_type": "code",
   "execution_count": 50,
   "metadata": {},
   "outputs": [],
   "source": [
    "def patch_match(source_img, target_img):\n",
    "    height, width, _ = source_img.shape\n",
    "    offsets = np.empty((height, width, 2), dtype=np.float32)\n",
    "    costs = np.empty((height, width), dtype=np.float32)\n",
    "\n",
    "    PATCHMATCH_SIZE = 8\n",
    "    MAX_OFFSET = 100\n",
    "    MIN_OFFSET = 10\n",
    "    pm.pm(source_img.astype(np.float32),\n",
    "          target_img.astype(np.float32),\n",
    "          offsets,\n",
    "          costs,\n",
    "          PATCHMATCH_SIZE,\n",
    "          MIN_OFFSET,\n",
    "          MAX_OFFSET)\n",
    "\n",
    "    return offsets[:, :, ::-1]"
   ]
  },
  {
   "cell_type": "code",
   "execution_count": 51,
   "metadata": {},
   "outputs": [],
   "source": [
    "imgs = []\n",
    "img = imageio.imread('bike_a.png')\n",
    "img = (img / 255).astype(np.float64)\n",
    "imgs.append(img)\n",
    "img = imageio.imread('bike_b.png')\n",
    "img = (img / 255).astype(np.float64)\n",
    "imgs.append(img)\n",
    "# lib_offsets = patch_match(imgs[0], imgs[1])\n",
    "# np.save('lib_offset.npy', lib_offsets)\n",
    "lib_offsets = np.load('lib_offset.npy')"
   ]
  },
  {
   "cell_type": "code",
   "execution_count": 52,
   "metadata": {},
   "outputs": [],
   "source": [
    "import os\n",
    "\n",
    "import pyopencl as cl\n",
    "\n",
    "os.environ['PYOPENCL_NO_CACHE'] = '1'\n",
    "os.environ['PYOPENCL_NO_CACHE'] = '1'\n",
    "os.environ[\"PYOPENCL_COMPILER_OUTPUT\"] = \"1\"\n",
    "\n",
    "filename = 'patchmatch2.c'\n",
    "PATCH_SIZE = 5\n",
    "H_PATCH_SIZE = PATCH_SIZE // 2\n",
    "MIN_OFFSET = 10\n",
    "MAX_OFFSET = 100\n",
    "\n",
    "\n",
    "HEIGHT, WIDTH, _ = img.shape\n",
    "ctx = cl.create_some_context(False)\n",
    "queue = cl.CommandQueue(ctx)\n",
    "mf = cl.mem_flags\n",
    "program = cl.Program(ctx, open(filename).read()).build()\n",
    "input_img = np.pad(img, [(H_PATCH_SIZE, H_PATCH_SIZE), (H_PATCH_SIZE, H_PATCH_SIZE), (0, 0)], 'edge')\n",
    "\n",
    "nnf = np.empty((HEIGHT, WIDTH, 3))\n",
    "imgs = [input_img.copy()]"
   ]
  },
  {
   "cell_type": "code",
   "execution_count": 53,
   "metadata": {
    "scrolled": true
   },
   "outputs": [],
   "source": [
    "inputBuf = [cl.Buffer(ctx, mf.READ_ONLY | mf.COPY_HOST_PTR, hostbuf=input_img) for _ in range(2)]\n",
    "outputBuf = cl.Buffer(ctx, mf.WRITE_ONLY | mf.COPY_HOST_PTR, nnf.nbytes, hostbuf=nnf)\n",
    "\n",
    "# \t\t\t\t\t\t const int min_offset, const int max_offset,\n",
    "# \t\t\t\t\t\t const int hpatchSize,\n",
    "# \t\t\t\t\t\t __global double *img1, __global double *img2, __global double *output)\n",
    "GLOBAL_SIZE = (HEIGHT, WIDTH)\n",
    "program.randomfill(queue, GLOBAL_SIZE, None,\n",
    "                                np.int32(HEIGHT),  # height\n",
    "                                np.int32(WIDTH),  # width\n",
    "                                np.int32(MIN_OFFSET), \n",
    "                                np.int32(MAX_OFFSET), \n",
    "                                np.int32(H_PATCH_SIZE),  # width\n",
    "                                inputBuf[0],\n",
    "                                inputBuf[1],\n",
    "                                outputBuf)\n",
    "\n",
    "\n",
    "init_nnf = np.empty_like(nnf)\n",
    "cl.enqueue_copy(queue, init_nnf, outputBuf)\n",
    "nnf = np.copy(init_nnf)"
   ]
  },
  {
   "cell_type": "code",
   "execution_count": 54,
   "metadata": {},
   "outputs": [],
   "source": [
    "# mf = cl.mem_flags\n",
    "\n",
    "for i in range(4):\n",
    "    mf = cl.mem_flags\n",
    "    inputBuf = [cl.Buffer(ctx, mf.READ_ONLY | mf.COPY_HOST_PTR, hostbuf=input_img) for _ in range(2)]\n",
    "    outputBuf = cl.Buffer(ctx, mf.READ_WRITE | mf.COPY_HOST_PTR, nnf.nbytes, hostbuf=nnf)\n",
    "\n",
    "    ITER = i + 1\n",
    "    program.propagate(queue, GLOBAL_SIZE, None,\n",
    "                                   np.int32(H_PATCH_SIZE),  # patchHeight\n",
    "                                   np.int32(HEIGHT),  # height\n",
    "                                   np.int32(WIDTH),  # width\n",
    "                                   np.int32(MIN_OFFSET),\n",
    "                                   np.int32(MAX_OFFSET),\n",
    "                                   np.int32(ITER),\n",
    "                                   inputBuf[0],\n",
    "                                   inputBuf[1],\n",
    "                                   outputBuf)\n",
    "\n",
    "\n",
    "    output_nnf = np.empty_like(nnf)\n",
    "    cl.enqueue_copy(queue, output_nnf, outputBuf)\n",
    "    nnf = output_nnf.copy()\n",
    "    \n",
    "\n",
    "# __kernel void propagate(const int hpatchSize, const int height, const int width,\n",
    "# \t\t\t\t\t\tconst min_offset, const max_offset, const int iteration,\n",
    "# \t\t\t\t\t\t__global double *img1, __global double *img2, __global double *output)"
   ]
  },
  {
   "cell_type": "code",
   "execution_count": 55,
   "metadata": {},
   "outputs": [
    {
     "data": {
      "text/plain": [
       "array([[[ 30,  50,   0],\n",
       "        [ 30,  51,   0],\n",
       "        [ 30,  52,   0],\n",
       "        ...,\n",
       "        [ 11, 213,   0],\n",
       "        [ 11, 214,   0],\n",
       "        [ 11, 215,   0]],\n",
       "\n",
       "       [[ 19,  33,   0],\n",
       "        [ 19,  34,   0],\n",
       "        [ 31,  52,   0],\n",
       "        ...,\n",
       "        [ 22, 149,   0],\n",
       "        [ 22, 150,   0],\n",
       "        [ 12, 215,   0]],\n",
       "\n",
       "       [[ 20,  14,   0],\n",
       "        [ 22,  23,   0],\n",
       "        [ 22,  24,   0],\n",
       "        ...,\n",
       "        [ 23, 149,   0],\n",
       "        [ 23, 150,   0],\n",
       "        [ 23, 151,   0]],\n",
       "\n",
       "       ...,\n",
       "\n",
       "       [[155,  47,   0],\n",
       "        [155,  48,   0],\n",
       "        [153,  56,   0],\n",
       "        ...,\n",
       "        [161, 221,   0],\n",
       "        [161, 222,   0],\n",
       "        [161, 223,   0]],\n",
       "\n",
       "       [[156,  47,   0],\n",
       "        [156,  48,   0],\n",
       "        [156,  49,   0],\n",
       "        ...,\n",
       "        [162, 221,   0],\n",
       "        [162, 222,   0],\n",
       "        [162, 223,   0]],\n",
       "\n",
       "       [[157,  47,   0],\n",
       "        [157,  48,   0],\n",
       "        [157,  49,   0],\n",
       "        ...,\n",
       "        [163, 221,   0],\n",
       "        [163, 222,   0],\n",
       "        [163, 223,   0]]])"
      ]
     },
     "execution_count": 55,
     "metadata": {},
     "output_type": "execute_result"
    }
   ],
   "source": [
    "nnf.astype(np.int)"
   ]
  },
  {
   "cell_type": "code",
   "execution_count": 56,
   "metadata": {
    "scrolled": true
   },
   "outputs": [
    {
     "data": {
      "text/plain": [
       "array([[[3.00000000e+01, 5.00000000e+01, 1.10665129e-01],\n",
       "        [3.00000000e+01, 5.10000000e+01, 1.16339869e-01],\n",
       "        [3.00000000e+01, 5.20000000e+01, 1.12633602e-01],\n",
       "        ...,\n",
       "        [1.10000000e+01, 2.13000000e+02, 1.40776624e-01],\n",
       "        [1.10000000e+01, 2.14000000e+02, 1.72179931e-01],\n",
       "        [1.10000000e+01, 2.15000000e+02, 2.02660515e-01]],\n",
       "\n",
       "       [[1.90000000e+01, 3.30000000e+01, 7.58169935e-02],\n",
       "        [1.90000000e+01, 3.40000000e+01, 1.18831219e-01],\n",
       "        [3.10000000e+01, 5.20000000e+01, 1.22937332e-01],\n",
       "        ...,\n",
       "        [2.20000000e+01, 1.49000000e+02, 3.40945790e-02],\n",
       "        [2.20000000e+01, 1.50000000e+02, 3.71549404e-02],\n",
       "        [1.20000000e+01, 2.15000000e+02, 2.40784314e-01]],\n",
       "\n",
       "       [[2.00000000e+01, 1.40000000e+01, 2.02229912e-02],\n",
       "        [2.20000000e+01, 2.30000000e+01, 4.00307574e-02],\n",
       "        [2.20000000e+01, 2.40000000e+01, 6.34525183e-02],\n",
       "        ...,\n",
       "        [2.30000000e+01, 1.49000000e+02, 2.58054594e-02],\n",
       "        [2.30000000e+01, 1.50000000e+02, 3.10188389e-02],\n",
       "        [2.30000000e+01, 1.51000000e+02, 4.03229527e-02]],\n",
       "\n",
       "       ...,\n",
       "\n",
       "       [[1.55000000e+02, 4.70000000e+01, 3.37562476e-01],\n",
       "        [1.55000000e+02, 4.80000000e+01, 5.82868128e-01],\n",
       "        [1.53000000e+02, 5.60000000e+01, 7.21091888e-01],\n",
       "        ...,\n",
       "        [1.61000000e+02, 2.21000000e+02, 2.13118032e-01],\n",
       "        [1.61000000e+02, 2.22000000e+02, 1.71580161e-01],\n",
       "        [1.61000000e+02, 2.23000000e+02, 2.67374087e-01]],\n",
       "\n",
       "       [[1.56000000e+02, 4.70000000e+01, 1.32718185e-01],\n",
       "        [1.56000000e+02, 4.80000000e+01, 2.60576701e-01],\n",
       "        [1.56000000e+02, 4.90000000e+01, 5.76116878e-01],\n",
       "        ...,\n",
       "        [1.62000000e+02, 2.21000000e+02, 2.94163783e-01],\n",
       "        [1.62000000e+02, 2.22000000e+02, 2.41476355e-01],\n",
       "        [1.62000000e+02, 2.23000000e+02, 2.09365629e-01]],\n",
       "\n",
       "       [[1.57000000e+02, 4.70000000e+01, 1.15724721e-01],\n",
       "        [1.57000000e+02, 4.80000000e+01, 1.08835063e-01],\n",
       "        [1.57000000e+02, 4.90000000e+01, 2.14179162e-01],\n",
       "        ...,\n",
       "        [1.63000000e+02, 2.21000000e+02, 8.34894271e-01],\n",
       "        [1.63000000e+02, 2.22000000e+02, 7.38685121e-01],\n",
       "        [1.63000000e+02, 2.23000000e+02, 5.97893118e-01]]])"
      ]
     },
     "execution_count": 56,
     "metadata": {},
     "output_type": "execute_result"
    }
   ],
   "source": [
    "tmp = nnf.copy()\n",
    "tmp"
   ]
  },
  {
   "cell_type": "code",
   "execution_count": 57,
   "metadata": {},
   "outputs": [
    {
     "data": {
      "text/plain": [
       "array([[[ 30,  50,   0],\n",
       "        [ 30,  51,   0],\n",
       "        [ 30,  52,   0],\n",
       "        ...,\n",
       "        [ 11, 213,   0],\n",
       "        [ 11, 214,   0],\n",
       "        [ 11, 215,   0]],\n",
       "\n",
       "       [[ 19,  33,   0],\n",
       "        [ 19,  34,   0],\n",
       "        [ 31,  52,   0],\n",
       "        ...,\n",
       "        [ 22, 149,   0],\n",
       "        [ 22, 150,   0],\n",
       "        [ 12, 215,   0]],\n",
       "\n",
       "       [[ 20,  14,   0],\n",
       "        [ 22,  23,   0],\n",
       "        [ 22,  24,   0],\n",
       "        ...,\n",
       "        [ 23, 149,   0],\n",
       "        [ 23, 150,   0],\n",
       "        [ 23, 151,   0]],\n",
       "\n",
       "       ...,\n",
       "\n",
       "       [[155,  47,   0],\n",
       "        [155,  48,   0],\n",
       "        [153,  56,   0],\n",
       "        ...,\n",
       "        [161, 221,   0],\n",
       "        [161, 222,   0],\n",
       "        [161, 223,   0]],\n",
       "\n",
       "       [[156,  47,   0],\n",
       "        [156,  48,   0],\n",
       "        [156,  49,   0],\n",
       "        ...,\n",
       "        [162, 221,   0],\n",
       "        [162, 222,   0],\n",
       "        [162, 223,   0]],\n",
       "\n",
       "       [[157,  47,   0],\n",
       "        [157,  48,   0],\n",
       "        [157,  49,   0],\n",
       "        ...,\n",
       "        [163, 221,   0],\n",
       "        [163, 222,   0],\n",
       "        [163, 223,   0]]])"
      ]
     },
     "execution_count": 57,
     "metadata": {},
     "output_type": "execute_result"
    }
   ],
   "source": [
    "nnf.astype(np.int)"
   ]
  },
  {
   "cell_type": "code",
   "execution_count": 58,
   "metadata": {},
   "outputs": [
    {
     "ename": "NameError",
     "evalue": "name 'NNF_WIDTH' is not defined",
     "output_type": "error",
     "traceback": [
      "\u001b[0;31m---------------------------------------------------------------------------\u001b[0m",
      "\u001b[0;31mNameError\u001b[0m                                 Traceback (most recent call last)",
      "\u001b[0;32m<ipython-input-58-f485094a2a57>\u001b[0m in \u001b[0;36m<module>\u001b[0;34m\u001b[0m\n\u001b[0;32m----> 1\u001b[0;31m \u001b[0mgrids\u001b[0m \u001b[0;34m=\u001b[0m \u001b[0mnp\u001b[0m\u001b[0;34m.\u001b[0m\u001b[0mmeshgrid\u001b[0m\u001b[0;34m(\u001b[0m\u001b[0mnp\u001b[0m\u001b[0;34m.\u001b[0m\u001b[0marange\u001b[0m\u001b[0;34m(\u001b[0m\u001b[0mNNF_WIDTH\u001b[0m\u001b[0;34m)\u001b[0m\u001b[0;34m,\u001b[0m \u001b[0mnp\u001b[0m\u001b[0;34m.\u001b[0m\u001b[0marange\u001b[0m\u001b[0;34m(\u001b[0m\u001b[0mNNF_HEIGHT\u001b[0m\u001b[0;34m)\u001b[0m\u001b[0;34m,\u001b[0m \u001b[0mindexing\u001b[0m\u001b[0;34m=\u001b[0m\u001b[0;34m\"xy\"\u001b[0m\u001b[0;34m)\u001b[0m\u001b[0;34m\u001b[0m\u001b[0;34m\u001b[0m\u001b[0m\n\u001b[0m\u001b[1;32m      2\u001b[0m \u001b[0mcord\u001b[0m \u001b[0;34m=\u001b[0m \u001b[0mnp\u001b[0m\u001b[0;34m.\u001b[0m\u001b[0mconcatenate\u001b[0m\u001b[0;34m(\u001b[0m\u001b[0;34m(\u001b[0m\u001b[0mgrids\u001b[0m\u001b[0;34m[\u001b[0m\u001b[0;36m1\u001b[0m\u001b[0;34m]\u001b[0m\u001b[0;34m[\u001b[0m\u001b[0;34m...\u001b[0m\u001b[0;34m,\u001b[0m \u001b[0mnp\u001b[0m\u001b[0;34m.\u001b[0m\u001b[0mnewaxis\u001b[0m\u001b[0;34m]\u001b[0m\u001b[0;34m,\u001b[0m \u001b[0mgrids\u001b[0m\u001b[0;34m[\u001b[0m\u001b[0;36m0\u001b[0m\u001b[0;34m]\u001b[0m\u001b[0;34m[\u001b[0m\u001b[0;34m...\u001b[0m\u001b[0;34m,\u001b[0m \u001b[0mnp\u001b[0m\u001b[0;34m.\u001b[0m\u001b[0mnewaxis\u001b[0m\u001b[0;34m]\u001b[0m\u001b[0;34m)\u001b[0m\u001b[0;34m,\u001b[0m \u001b[0maxis\u001b[0m\u001b[0;34m=\u001b[0m\u001b[0;36m2\u001b[0m\u001b[0;34m)\u001b[0m\u001b[0;34m\u001b[0m\u001b[0;34m\u001b[0m\u001b[0m\n",
      "\u001b[0;31mNameError\u001b[0m: name 'NNF_WIDTH' is not defined"
     ]
    }
   ],
   "source": [
    "grids = np.meshgrid(np.arange(NNF_WIDTH), np.arange(NNF_HEIGHT), indexing=\"xy\")\n",
    "cord = np.concatenate((grids[1][..., np.newaxis], grids[0][..., np.newaxis]), axis=2)"
   ]
  },
  {
   "cell_type": "code",
   "execution_count": 59,
   "metadata": {
    "scrolled": true
   },
   "outputs": [],
   "source": [
    "a = nnf[:, :, :2] - cord"
   ]
  },
  {
   "cell_type": "code",
   "execution_count": 60,
   "metadata": {},
   "outputs": [
    {
     "data": {
      "text/plain": [
       "array([[[ 30.,  50.],\n",
       "        [ 30.,  50.],\n",
       "        [ 30.,  50.],\n",
       "        ...,\n",
       "        [ 11., -23.],\n",
       "        [ 11., -23.],\n",
       "        [ 11., -23.]],\n",
       "\n",
       "       [[ 18.,  33.],\n",
       "        [ 18.,  33.],\n",
       "        [ 30.,  50.],\n",
       "        ...,\n",
       "        [ 21., -87.],\n",
       "        [ 21., -87.],\n",
       "        [ 11., -23.]],\n",
       "\n",
       "       [[ 18.,  14.],\n",
       "        [ 20.,  22.],\n",
       "        [ 20.,  22.],\n",
       "        ...,\n",
       "        [ 21., -87.],\n",
       "        [ 21., -87.],\n",
       "        [ 21., -87.]],\n",
       "\n",
       "       ...,\n",
       "\n",
       "       [[-17.,  47.],\n",
       "        [-17.,  47.],\n",
       "        [-19.,  54.],\n",
       "        ...,\n",
       "        [-11., -15.],\n",
       "        [-11., -15.],\n",
       "        [-11., -15.]],\n",
       "\n",
       "       [[-17.,  47.],\n",
       "        [-17.,  47.],\n",
       "        [-17.,  47.],\n",
       "        ...,\n",
       "        [-11., -15.],\n",
       "        [-11., -15.],\n",
       "        [-11., -15.]],\n",
       "\n",
       "       [[-17.,  47.],\n",
       "        [-17.,  47.],\n",
       "        [-17.,  47.],\n",
       "        ...,\n",
       "        [-11., -15.],\n",
       "        [-11., -15.],\n",
       "        [-11., -15.]]])"
      ]
     },
     "execution_count": 60,
     "metadata": {},
     "output_type": "execute_result"
    }
   ],
   "source": [
    "a"
   ]
  },
  {
   "cell_type": "code",
   "execution_count": 23,
   "metadata": {
    "scrolled": false
   },
   "outputs": [
    {
     "data": {
      "text/plain": [
       "array([[[  8,   6],\n",
       "        [ 12,   7],\n",
       "        [ 12,   7],\n",
       "        ...,\n",
       "        [ 22, -27],\n",
       "        [ 22, -27],\n",
       "        [ 22, -27]],\n",
       "\n",
       "       [[  8,   6],\n",
       "        [ 12,   7],\n",
       "        [ 12,   7],\n",
       "        ...,\n",
       "        [ 22, -27],\n",
       "        [ 22, -27],\n",
       "        [ 22, -27]],\n",
       "\n",
       "       [[  8,   6],\n",
       "        [  8,   6],\n",
       "        [ 12,   7],\n",
       "        ...,\n",
       "        [ 22, -27],\n",
       "        [ 22, -27],\n",
       "        [ 22, -27]],\n",
       "\n",
       "       ...,\n",
       "\n",
       "       [[-21,   0],\n",
       "        [-27,  -1],\n",
       "        [-27,  -1],\n",
       "        ...,\n",
       "        [-10,   0],\n",
       "        [-10,   0],\n",
       "        [-10,   0]],\n",
       "\n",
       "       [[-21,   0],\n",
       "        [-27,  -1],\n",
       "        [ -2,  10],\n",
       "        ...,\n",
       "        [-10,   0],\n",
       "        [-10,   0],\n",
       "        [-10,   0]],\n",
       "\n",
       "       [[-21,   0],\n",
       "        [-21,   0],\n",
       "        [ -2,  10],\n",
       "        ...,\n",
       "        [-10,   0],\n",
       "        [-10,   0],\n",
       "        [-10,   0]]])"
      ]
     },
     "execution_count": 23,
     "metadata": {},
     "output_type": "execute_result"
    }
   ],
   "source": [
    "lib_offsets.astype(np.int)[:HEIGHT, :WIDTH]"
   ]
  },
  {
   "cell_type": "code",
   "execution_count": 27,
   "metadata": {},
   "outputs": [
    {
     "data": {
      "text/plain": [
       "(175, 239, 2)"
      ]
     },
     "execution_count": 27,
     "metadata": {},
     "output_type": "execute_result"
    }
   ],
   "source": [
    "a.shape"
   ]
  },
  {
   "cell_type": "code",
   "execution_count": 28,
   "metadata": {
    "scrolled": true
   },
   "outputs": [
    {
     "data": {
      "text/plain": [
       "array([[[ 33,  18,   0],\n",
       "        [ 33,  19,   0],\n",
       "        [ 33,  20,   0],\n",
       "        ...,\n",
       "        [ 11, 213,   0],\n",
       "        [ 11, 214,   0],\n",
       "        [ 11, 215,   0]],\n",
       "\n",
       "       [[ 19,  33,   0],\n",
       "        [ 19,  34,   0],\n",
       "        [ 21,  25,   0],\n",
       "        ...,\n",
       "        [ 78, 190,   1],\n",
       "        [ 78, 191,   1],\n",
       "        [ 78, 192,   1]],\n",
       "\n",
       "       [[ 35,  20,   1],\n",
       "        [ 22,  23,   0],\n",
       "        [ 22,  24,   0],\n",
       "        ...,\n",
       "        [ 15, 220,   0],\n",
       "        [ 15, 221,   0],\n",
       "        [ 15, 222,   0]],\n",
       "\n",
       "       ...,\n",
       "\n",
       "       [[146,  26,   0],\n",
       "        [146,  27,   0],\n",
       "        [159,  59,   0],\n",
       "        ...,\n",
       "        [161, 221,   0],\n",
       "        [161, 222,   0],\n",
       "        [161, 223,   0]],\n",
       "\n",
       "       [[147,  26,   0],\n",
       "        [147,  27,   0],\n",
       "        [160,  59,   0],\n",
       "        ...,\n",
       "        [162, 221,   0],\n",
       "        [162, 222,   0],\n",
       "        [162, 223,   0]],\n",
       "\n",
       "       [[148,  26,   0],\n",
       "        [154,  40,   0],\n",
       "        [157,  49,   0],\n",
       "        ...,\n",
       "        [163, 221,   0],\n",
       "        [163, 222,   0],\n",
       "        [163, 223,   0]]])"
      ]
     },
     "execution_count": 28,
     "metadata": {},
     "output_type": "execute_result"
    }
   ],
   "source": [
    "output_nnf.astype(np.int)"
   ]
  },
  {
   "cell_type": "code",
   "execution_count": 29,
   "metadata": {},
   "outputs": [
    {
     "data": {
      "text/plain": [
       "-100.0"
      ]
     },
     "execution_count": 29,
     "metadata": {},
     "output_type": "execute_result"
    }
   ],
   "source": [
    "np.min(lib_offsets)"
   ]
  },
  {
   "cell_type": "code",
   "execution_count": 30,
   "metadata": {},
   "outputs": [
    {
     "data": {
      "text/plain": [
       "array([[[3.30000000e+01, 1.80000000e+01, 2.04136870e-01],\n",
       "        [3.30000000e+01, 1.90000000e+01, 1.90495963e-01],\n",
       "        [3.30000000e+01, 2.00000000e+01, 1.93156478e-01],\n",
       "        ...,\n",
       "        [1.10000000e+01, 2.13000000e+02, 1.40776624e-01],\n",
       "        [1.10000000e+01, 2.14000000e+02, 1.72179931e-01],\n",
       "        [1.10000000e+01, 2.15000000e+02, 2.02660515e-01]],\n",
       "\n",
       "       [[1.90000000e+01, 3.30000000e+01, 7.58169935e-02],\n",
       "        [1.90000000e+01, 3.40000000e+01, 1.18831219e-01],\n",
       "        [2.10000000e+01, 2.50000000e+01, 1.80899654e-01],\n",
       "        ...,\n",
       "        [7.80000000e+01, 1.90000000e+02, 1.12376778e+00],\n",
       "        [7.80000000e+01, 1.91000000e+02, 1.10231449e+00],\n",
       "        [7.80000000e+01, 1.92000000e+02, 1.08301423e+00]],\n",
       "\n",
       "       [[3.50000000e+01, 2.00000000e+01, 1.44622837e+00],\n",
       "        [2.20000000e+01, 2.30000000e+01, 4.00307574e-02],\n",
       "        [2.20000000e+01, 2.40000000e+01, 6.34525183e-02],\n",
       "        ...,\n",
       "        [1.50000000e+01, 2.20000000e+02, 2.40845829e-01],\n",
       "        [1.50000000e+01, 2.21000000e+02, 2.71557093e-01],\n",
       "        [1.50000000e+01, 2.22000000e+02, 3.02145329e-01]],\n",
       "\n",
       "       ...,\n",
       "\n",
       "       [[1.46000000e+02, 2.60000000e+01, 4.81368704e-01],\n",
       "        [1.46000000e+02, 2.70000000e+01, 7.61276432e-01],\n",
       "        [1.59000000e+02, 5.90000000e+01, 8.22191465e-01],\n",
       "        ...,\n",
       "        [1.61000000e+02, 2.21000000e+02, 2.13118032e-01],\n",
       "        [1.61000000e+02, 2.22000000e+02, 1.71580161e-01],\n",
       "        [1.61000000e+02, 2.23000000e+02, 2.67374087e-01]],\n",
       "\n",
       "       [[1.47000000e+02, 2.60000000e+01, 3.56093810e-01],\n",
       "        [1.47000000e+02, 2.70000000e+01, 6.11887735e-01],\n",
       "        [1.60000000e+02, 5.90000000e+01, 8.96424452e-01],\n",
       "        ...,\n",
       "        [1.62000000e+02, 2.21000000e+02, 2.94163783e-01],\n",
       "        [1.62000000e+02, 2.22000000e+02, 2.41476355e-01],\n",
       "        [1.62000000e+02, 2.23000000e+02, 2.09365629e-01]],\n",
       "\n",
       "       [[1.48000000e+02, 2.60000000e+01, 5.14156094e-01],\n",
       "        [1.54000000e+02, 4.00000000e+01, 3.36116878e-01],\n",
       "        [1.57000000e+02, 4.90000000e+01, 2.14179162e-01],\n",
       "        ...,\n",
       "        [1.63000000e+02, 2.21000000e+02, 8.34894271e-01],\n",
       "        [1.63000000e+02, 2.22000000e+02, 7.38685121e-01],\n",
       "        [1.63000000e+02, 2.23000000e+02, 5.97893118e-01]]])"
      ]
     },
     "execution_count": 30,
     "metadata": {},
     "output_type": "execute_result"
    }
   ],
   "source": [
    "nnf"
   ]
  },
  {
   "cell_type": "code",
   "execution_count": 31,
   "metadata": {
    "scrolled": true
   },
   "outputs": [
    {
     "data": {
      "text/plain": [
       "array([ 85.       , 187.       ,   0.3654133])"
      ]
     },
     "execution_count": 31,
     "metadata": {},
     "output_type": "execute_result"
    }
   ],
   "source": [
    "nnf[100, 200]"
   ]
  },
  {
   "cell_type": "code",
   "execution_count": 32,
   "metadata": {},
   "outputs": [
    {
     "data": {
      "text/plain": [
       "array([15., -9.], dtype=float32)"
      ]
     },
     "execution_count": 32,
     "metadata": {},
     "output_type": "execute_result"
    }
   ],
   "source": [
    "lib_offsets[100, 210]"
   ]
  },
  {
   "cell_type": "code",
   "execution_count": 36,
   "metadata": {},
   "outputs": [
    {
     "data": {
      "text/plain": [
       "array([0.19215686, 0.22745098, 0.36470588])"
      ]
     },
     "execution_count": 36,
     "metadata": {},
     "output_type": "execute_result"
    }
   ],
   "source": [
    "input_img[100, 200]"
   ]
  },
  {
   "cell_type": "code",
   "execution_count": 37,
   "metadata": {},
   "outputs": [
    {
     "data": {
      "text/plain": [
       "array([0.46666667, 0.45490196, 0.41176471])"
      ]
     },
     "execution_count": 37,
     "metadata": {},
     "output_type": "execute_result"
    }
   ],
   "source": [
    "input_img[85, 187]"
   ]
  },
  {
   "cell_type": "code",
   "execution_count": 38,
   "metadata": {
    "scrolled": true
   },
   "outputs": [
    {
     "data": {
      "text/plain": [
       "array([0.40784314, 0.3254902 , 0.29803922])"
      ]
     },
     "execution_count": 38,
     "metadata": {},
     "output_type": "execute_result"
    }
   ],
   "source": [
    "input_img[115, 201]"
   ]
  },
  {
   "cell_type": "code",
   "execution_count": 39,
   "metadata": {},
   "outputs": [
    {
     "data": {
      "text/plain": [
       "array([[[ 33.,  18.],\n",
       "        [ 33.,  18.],\n",
       "        [ 33.,  18.],\n",
       "        ...,\n",
       "        [ 11., -23.],\n",
       "        [ 11., -23.],\n",
       "        [ 11., -23.]],\n",
       "\n",
       "       [[ 18.,  33.],\n",
       "        [ 18.,  33.],\n",
       "        [ 20.,  23.],\n",
       "        ...,\n",
       "        [ 77., -46.],\n",
       "        [ 77., -46.],\n",
       "        [ 77., -46.]],\n",
       "\n",
       "       [[ 33.,  20.],\n",
       "        [ 20.,  22.],\n",
       "        [ 20.,  22.],\n",
       "        ...,\n",
       "        [ 13., -16.],\n",
       "        [ 13., -16.],\n",
       "        [ 13., -16.]],\n",
       "\n",
       "       ...,\n",
       "\n",
       "       [[-26.,  26.],\n",
       "        [-26.,  26.],\n",
       "        [-13.,  57.],\n",
       "        ...,\n",
       "        [-11., -15.],\n",
       "        [-11., -15.],\n",
       "        [-11., -15.]],\n",
       "\n",
       "       [[-26.,  26.],\n",
       "        [-26.,  26.],\n",
       "        [-13.,  57.],\n",
       "        ...,\n",
       "        [-11., -15.],\n",
       "        [-11., -15.],\n",
       "        [-11., -15.]],\n",
       "\n",
       "       [[-26.,  26.],\n",
       "        [-20.,  39.],\n",
       "        [-17.,  47.],\n",
       "        ...,\n",
       "        [-11., -15.],\n",
       "        [-11., -15.],\n",
       "        [-11., -15.]]])"
      ]
     },
     "execution_count": 39,
     "metadata": {},
     "output_type": "execute_result"
    }
   ],
   "source": [
    "a"
   ]
  },
  {
   "cell_type": "code",
   "execution_count": 42,
   "metadata": {},
   "outputs": [
    {
     "data": {
      "text/plain": [
       "-0.14473401075911535"
      ]
     },
     "execution_count": 42,
     "metadata": {},
     "output_type": "execute_result"
    }
   ],
   "source": [
    "np.mean(a - lib_offsets)"
   ]
  },
  {
   "cell_type": "code",
   "execution_count": 48,
   "metadata": {},
   "outputs": [
    {
     "ename": "ValueError",
     "evalue": "x must have 2 or fewer dimensions",
     "output_type": "error",
     "traceback": [
      "\u001b[0;31m---------------------------------------------------------------------------\u001b[0m",
      "\u001b[0;31mValueError\u001b[0m                                Traceback (most recent call last)",
      "\u001b[0;32m<ipython-input-48-91ba63c80edf>\u001b[0m in \u001b[0;36m<module>\u001b[0;34m\u001b[0m\n\u001b[0;32m----> 1\u001b[0;31m \u001b[0mplt\u001b[0m\u001b[0;34m.\u001b[0m\u001b[0mhist\u001b[0m\u001b[0;34m(\u001b[0m\u001b[0ma\u001b[0m \u001b[0;34m-\u001b[0m \u001b[0mlib_offsets\u001b[0m\u001b[0;34m)\u001b[0m\u001b[0;34m\u001b[0m\u001b[0;34m\u001b[0m\u001b[0m\n\u001b[0m",
      "\u001b[0;32m/usr/local/lib/python3.7/site-packages/matplotlib/pyplot.py\u001b[0m in \u001b[0;36mhist\u001b[0;34m(x, bins, range, density, weights, cumulative, bottom, histtype, align, orientation, rwidth, log, color, label, stacked, normed, data, **kwargs)\u001b[0m\n\u001b[1;32m   2659\u001b[0m         \u001b[0malign\u001b[0m\u001b[0;34m=\u001b[0m\u001b[0malign\u001b[0m\u001b[0;34m,\u001b[0m \u001b[0morientation\u001b[0m\u001b[0;34m=\u001b[0m\u001b[0morientation\u001b[0m\u001b[0;34m,\u001b[0m \u001b[0mrwidth\u001b[0m\u001b[0;34m=\u001b[0m\u001b[0mrwidth\u001b[0m\u001b[0;34m,\u001b[0m \u001b[0mlog\u001b[0m\u001b[0;34m=\u001b[0m\u001b[0mlog\u001b[0m\u001b[0;34m,\u001b[0m\u001b[0;34m\u001b[0m\u001b[0;34m\u001b[0m\u001b[0m\n\u001b[1;32m   2660\u001b[0m         \u001b[0mcolor\u001b[0m\u001b[0;34m=\u001b[0m\u001b[0mcolor\u001b[0m\u001b[0;34m,\u001b[0m \u001b[0mlabel\u001b[0m\u001b[0;34m=\u001b[0m\u001b[0mlabel\u001b[0m\u001b[0;34m,\u001b[0m \u001b[0mstacked\u001b[0m\u001b[0;34m=\u001b[0m\u001b[0mstacked\u001b[0m\u001b[0;34m,\u001b[0m \u001b[0mnormed\u001b[0m\u001b[0;34m=\u001b[0m\u001b[0mnormed\u001b[0m\u001b[0;34m,\u001b[0m\u001b[0;34m\u001b[0m\u001b[0;34m\u001b[0m\u001b[0m\n\u001b[0;32m-> 2661\u001b[0;31m         **({\"data\": data} if data is not None else {}), **kwargs)\n\u001b[0m\u001b[1;32m   2662\u001b[0m \u001b[0;34m\u001b[0m\u001b[0m\n\u001b[1;32m   2663\u001b[0m \u001b[0;34m\u001b[0m\u001b[0m\n",
      "\u001b[0;32m/usr/local/lib/python3.7/site-packages/matplotlib/__init__.py\u001b[0m in \u001b[0;36minner\u001b[0;34m(ax, data, *args, **kwargs)\u001b[0m\n\u001b[1;32m   1808\u001b[0m                         \u001b[0;34m\"the Matplotlib list!)\"\u001b[0m \u001b[0;34m%\u001b[0m \u001b[0;34m(\u001b[0m\u001b[0mlabel_namer\u001b[0m\u001b[0;34m,\u001b[0m \u001b[0mfunc\u001b[0m\u001b[0;34m.\u001b[0m\u001b[0m__name__\u001b[0m\u001b[0;34m)\u001b[0m\u001b[0;34m,\u001b[0m\u001b[0;34m\u001b[0m\u001b[0;34m\u001b[0m\u001b[0m\n\u001b[1;32m   1809\u001b[0m                         RuntimeWarning, stacklevel=2)\n\u001b[0;32m-> 1810\u001b[0;31m             \u001b[0;32mreturn\u001b[0m \u001b[0mfunc\u001b[0m\u001b[0;34m(\u001b[0m\u001b[0max\u001b[0m\u001b[0;34m,\u001b[0m \u001b[0;34m*\u001b[0m\u001b[0margs\u001b[0m\u001b[0;34m,\u001b[0m \u001b[0;34m**\u001b[0m\u001b[0mkwargs\u001b[0m\u001b[0;34m)\u001b[0m\u001b[0;34m\u001b[0m\u001b[0;34m\u001b[0m\u001b[0m\n\u001b[0m\u001b[1;32m   1811\u001b[0m \u001b[0;34m\u001b[0m\u001b[0m\n\u001b[1;32m   1812\u001b[0m         inner.__doc__ = _add_data_doc(inner.__doc__,\n",
      "\u001b[0;32m/usr/local/lib/python3.7/site-packages/matplotlib/axes/_axes.py\u001b[0m in \u001b[0;36mhist\u001b[0;34m(self, x, bins, range, density, weights, cumulative, bottom, histtype, align, orientation, rwidth, log, color, label, stacked, normed, **kwargs)\u001b[0m\n\u001b[1;32m   6527\u001b[0m             \u001b[0mx\u001b[0m \u001b[0;34m=\u001b[0m \u001b[0;34m[\u001b[0m\u001b[0mnp\u001b[0m\u001b[0;34m.\u001b[0m\u001b[0marray\u001b[0m\u001b[0;34m(\u001b[0m\u001b[0;34m[\u001b[0m\u001b[0;34m]\u001b[0m\u001b[0;34m)\u001b[0m\u001b[0;34m]\u001b[0m\u001b[0;34m\u001b[0m\u001b[0;34m\u001b[0m\u001b[0m\n\u001b[1;32m   6528\u001b[0m         \u001b[0;32melse\u001b[0m\u001b[0;34m:\u001b[0m\u001b[0;34m\u001b[0m\u001b[0;34m\u001b[0m\u001b[0m\n\u001b[0;32m-> 6529\u001b[0;31m             \u001b[0mx\u001b[0m \u001b[0;34m=\u001b[0m \u001b[0mcbook\u001b[0m\u001b[0;34m.\u001b[0m\u001b[0m_reshape_2D\u001b[0m\u001b[0;34m(\u001b[0m\u001b[0mx\u001b[0m\u001b[0;34m,\u001b[0m \u001b[0;34m'x'\u001b[0m\u001b[0;34m)\u001b[0m\u001b[0;34m\u001b[0m\u001b[0;34m\u001b[0m\u001b[0m\n\u001b[0m\u001b[1;32m   6530\u001b[0m         \u001b[0mnx\u001b[0m \u001b[0;34m=\u001b[0m \u001b[0mlen\u001b[0m\u001b[0;34m(\u001b[0m\u001b[0mx\u001b[0m\u001b[0;34m)\u001b[0m  \u001b[0;31m# number of datasets\u001b[0m\u001b[0;34m\u001b[0m\u001b[0;34m\u001b[0m\u001b[0m\n\u001b[1;32m   6531\u001b[0m \u001b[0;34m\u001b[0m\u001b[0m\n",
      "\u001b[0;32m/usr/local/lib/python3.7/site-packages/matplotlib/cbook/__init__.py\u001b[0m in \u001b[0;36m_reshape_2D\u001b[0;34m(X, name)\u001b[0m\n\u001b[1;32m   1401\u001b[0m         \u001b[0;32mreturn\u001b[0m \u001b[0;34m[\u001b[0m\u001b[0mnp\u001b[0m\u001b[0;34m.\u001b[0m\u001b[0mreshape\u001b[0m\u001b[0;34m(\u001b[0m\u001b[0mx\u001b[0m\u001b[0;34m,\u001b[0m \u001b[0;34m-\u001b[0m\u001b[0;36m1\u001b[0m\u001b[0;34m)\u001b[0m \u001b[0;32mfor\u001b[0m \u001b[0mx\u001b[0m \u001b[0;32min\u001b[0m \u001b[0mX\u001b[0m\u001b[0;34m]\u001b[0m\u001b[0;34m\u001b[0m\u001b[0;34m\u001b[0m\u001b[0m\n\u001b[1;32m   1402\u001b[0m     \u001b[0;32melse\u001b[0m\u001b[0;34m:\u001b[0m\u001b[0;34m\u001b[0m\u001b[0;34m\u001b[0m\u001b[0m\n\u001b[0;32m-> 1403\u001b[0;31m         \u001b[0;32mraise\u001b[0m \u001b[0mValueError\u001b[0m\u001b[0;34m(\u001b[0m\u001b[0;34m\"{} must have 2 or fewer dimensions\"\u001b[0m\u001b[0;34m.\u001b[0m\u001b[0mformat\u001b[0m\u001b[0;34m(\u001b[0m\u001b[0mname\u001b[0m\u001b[0;34m)\u001b[0m\u001b[0;34m)\u001b[0m\u001b[0;34m\u001b[0m\u001b[0;34m\u001b[0m\u001b[0m\n\u001b[0m\u001b[1;32m   1404\u001b[0m \u001b[0;34m\u001b[0m\u001b[0m\n\u001b[1;32m   1405\u001b[0m \u001b[0;34m\u001b[0m\u001b[0m\n",
      "\u001b[0;31mValueError\u001b[0m: x must have 2 or fewer dimensions"
     ]
    },
    {
     "data": {
      "image/png": "[encoded data removed]",
      "text/plain": [
       "<Figure size 432x288 with 1 Axes>"
      ]
     },
     "metadata": {
      "needs_background": "light"
     },
     "output_type": "display_data"
    }
   ],
   "source": []
  },
  {
   "cell_type": "code",
   "execution_count": 46,
   "metadata": {},
   "outputs": [],
   "source": [
    "import matplotlib.pyplot as plt"
   ]
  },
  {
   "cell_type": "code",
   "execution_count": 61,
   "metadata": {},
   "outputs": [
    {
     "data": {
      "text/plain": [
       "array([[[ 30.,  50.],\n",
       "        [ 30.,  50.],\n",
       "        [ 30.,  50.],\n",
       "        ...,\n",
       "        [ 11., -23.],\n",
       "        [ 11., -23.],\n",
       "        [ 11., -23.]],\n",
       "\n",
       "       [[ 18.,  33.],\n",
       "        [ 18.,  33.],\n",
       "        [ 30.,  50.],\n",
       "        ...,\n",
       "        [ 21., -87.],\n",
       "        [ 21., -87.],\n",
       "        [ 11., -23.]],\n",
       "\n",
       "       [[ 18.,  14.],\n",
       "        [ 20.,  22.],\n",
       "        [ 20.,  22.],\n",
       "        ...,\n",
       "        [ 21., -87.],\n",
       "        [ 21., -87.],\n",
       "        [ 21., -87.]],\n",
       "\n",
       "       ...,\n",
       "\n",
       "       [[-17.,  47.],\n",
       "        [-17.,  47.],\n",
       "        [-19.,  54.],\n",
       "        ...,\n",
       "        [-11., -15.],\n",
       "        [-11., -15.],\n",
       "        [-11., -15.]],\n",
       "\n",
       "       [[-17.,  47.],\n",
       "        [-17.,  47.],\n",
       "        [-17.,  47.],\n",
       "        ...,\n",
       "        [-11., -15.],\n",
       "        [-11., -15.],\n",
       "        [-11., -15.]],\n",
       "\n",
       "       [[-17.,  47.],\n",
       "        [-17.,  47.],\n",
       "        [-17.,  47.],\n",
       "        ...,\n",
       "        [-11., -15.],\n",
       "        [-11., -15.],\n",
       "        [-11., -15.]]])"
      ]
     },
     "execution_count": 61,
     "metadata": {},
     "output_type": "execute_result"
    }
   ],
   "source": []
  },
  {
   "cell_type": "code",
   "execution_count": 67,
   "metadata": {},
   "outputs": [
    {
     "data": {
      "text/plain": [
       "(array([ 1203.,  1371.,  1300.,  4858., 10753., 10738.,  6241.,  1913.,\n",
       "         1870.,  1578.]),\n",
       " array([-100.,  -80.,  -60.,  -40.,  -20.,    0.,   20.,   40.,   60.,\n",
       "          80.,  100.]),\n",
       " <a list of 10 Patch objects>)"
      ]
     },
     "execution_count": 67,
     "metadata": {},
     "output_type": "execute_result"
    },
    {
     "data": {
      "image/png": "[encoded data removed]",
      "text/plain": [
       "<Figure size 432x288 with 1 Axes>"
      ]
     },
     "metadata": {
      "needs_background": "light"
     },
     "output_type": "display_data"
    }
   ],
   "source": [
    "plt.hist(a[:, :, 0].flatten())"
   ]
  },
  {
   "cell_type": "code",
   "execution_count": 69,
   "metadata": {},
   "outputs": [
    {
     "data": {
      "text/plain": [
       "(array([  197.,   419.,   555.,  1037.,  9253., 26940.,  2054.,   683.,\n",
       "          474.,   213.]),\n",
       " array([-100. ,  -80.1,  -60.2,  -40.3,  -20.4,   -0.5,   19.4,   39.3,\n",
       "          59.2,   79.1,   99. ], dtype=float32),\n",
       " <a list of 10 Patch objects>)"
      ]
     },
     "execution_count": 69,
     "metadata": {},
     "output_type": "execute_result"
    },
    {
     "data": {
      "image/png": "[encoded data removed]",
      "text/plain": [
       "<Figure size 432x288 with 1 Axes>"
      ]
     },
     "metadata": {
      "needs_background": "light"
     },
     "output_type": "display_data"
    }
   ],
   "source": [
    "plt.hist(lib_offsets[:, :, 0].flatten())"
   ]
  },
  {
   "cell_type": "code",
   "execution_count": 72,
   "metadata": {},
   "outputs": [
    {
     "data": {
      "text/plain": [
       "0.0"
      ]
     },
     "execution_count": 72,
     "metadata": {},
     "output_type": "execute_result"
    }
   ],
   "source": [
    "np.min(np.abs(lib_offsets))"
   ]
  },
  {
   "cell_type": "code",
   "execution_count": 73,
   "metadata": {},
   "outputs": [
    {
     "data": {
      "text/plain": [
       "array([[[ 30.,  50.],\n",
       "        [ 30.,  50.],\n",
       "        [ 30.,  50.],\n",
       "        ...,\n",
       "        [ 11., -23.],\n",
       "        [ 11., -23.],\n",
       "        [ 11., -23.]],\n",
       "\n",
       "       [[ 18.,  33.],\n",
       "        [ 18.,  33.],\n",
       "        [ 30.,  50.],\n",
       "        ...,\n",
       "        [ 21., -87.],\n",
       "        [ 21., -87.],\n",
       "        [ 11., -23.]],\n",
       "\n",
       "       [[ 18.,  14.],\n",
       "        [ 20.,  22.],\n",
       "        [ 20.,  22.],\n",
       "        ...,\n",
       "        [ 21., -87.],\n",
       "        [ 21., -87.],\n",
       "        [ 21., -87.]],\n",
       "\n",
       "       ...,\n",
       "\n",
       "       [[-17.,  47.],\n",
       "        [-17.,  47.],\n",
       "        [-19.,  54.],\n",
       "        ...,\n",
       "        [-11., -15.],\n",
       "        [-11., -15.],\n",
       "        [-11., -15.]],\n",
       "\n",
       "       [[-17.,  47.],\n",
       "        [-17.,  47.],\n",
       "        [-17.,  47.],\n",
       "        ...,\n",
       "        [-11., -15.],\n",
       "        [-11., -15.],\n",
       "        [-11., -15.]],\n",
       "\n",
       "       [[-17.,  47.],\n",
       "        [-17.,  47.],\n",
       "        [-17.,  47.],\n",
       "        ...,\n",
       "        [-11., -15.],\n",
       "        [-11., -15.],\n",
       "        [-11., -15.]]])"
      ]
     },
     "execution_count": 73,
     "metadata": {},
     "output_type": "execute_result"
    }
   ],
   "source": [
    "a"
   ]
  },
  {
   "cell_type": "code",
   "execution_count": 74,
   "metadata": {},
   "outputs": [
    {
     "data": {
      "text/plain": [
       "array([-29., -31.])"
      ]
     },
     "execution_count": 74,
     "metadata": {},
     "output_type": "execute_result"
    }
   ],
   "source": [
    "a[100, 100]"
   ]
  },
  {
   "cell_type": "code",
   "execution_count": 75,
   "metadata": {
    "scrolled": true
   },
   "outputs": [
    {
     "data": {
      "text/plain": [
       "<matplotlib.image.AxesImage at 0x11e65a2b0>"
      ]
     },
     "execution_count": 75,
     "metadata": {},
     "output_type": "execute_result"
    },
    {
     "data": {
      "image/png": "[encoded data removed]",
      "text/plain": [
       "<Figure size 432x288 with 1 Axes>"
      ]
     },
     "metadata": {
      "needs_background": "light"
     },
     "output_type": "display_data"
    }
   ],
   "source": [
    "plt.imshow(input_img[95:105, 95:105])"
   ]
  },
  {
   "cell_type": "code",
   "execution_count": 75,
   "metadata": {
    "scrolled": true
   },
   "outputs": [
    {
     "data": {
      "text/plain": [
       "<matplotlib.image.AxesImage at 0x11e65a2b0>"
      ]
     },
     "execution_count": 75,
     "metadata": {},
     "output_type": "execute_result"
    },
    {
     "data": {
      "image/png": "[encoded data removed]",
      "text/plain": [
       "<Figure size 432x288 with 1 Axes>"
      ]
     },
     "metadata": {
      "needs_background": "light"
     },
     "output_type": "display_data"
    }
   ],
   "source": [
    "plt.imshow(input_img[80:, 95:105])"
   ]
  },
  {
   "cell_type": "code",
   "execution_count": null,
   "metadata": {},
   "outputs": [],
   "source": []
  }
 ],
 "metadata": {
  "kernelspec": {
   "display_name": "Python 3",
   "language": "python",
   "name": "python3"
  },
  "language_info": {
   "codemirror_mode": {
    "name": "ipython",
    "version": 3
   },
   "file_extension": ".py",
   "mimetype": "text/x-python",
   "name": "python",
   "nbconvert_exporter": "python",
   "pygments_lexer": "ipython3",
   "version": "3.7.2"
  }
 },
 "nbformat": 4,
 "nbformat_minor": 2
}
