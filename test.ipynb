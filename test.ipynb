{
 "cells": [
  {
   "cell_type": "code",
   "execution_count": 1,
   "metadata": {},
   "outputs": [
    {
     "name": "stderr",
     "output_type": "stream",
     "text": [
      "/usr/local/Cellar/python/3.7.2/Frameworks/Python.framework/Versions/3.7/lib/python3.7/importlib/_bootstrap.py:219: RuntimeWarning: compiletime version 3.6 of module 'patchmatch' does not match runtime version 3.7\n",
      "  return f(*args, **kwds)\n"
     ]
    }
   ],
   "source": [
    "import patchmatch as pm\n",
    "import imageio\n",
    "\n",
    "import numpy as np"
   ]
  },
  {
   "cell_type": "code",
   "execution_count": 18,
   "metadata": {},
   "outputs": [],
   "source": [
    "def patch_match(source_img, target_img):\n",
    "    height, width, _ = source_img.shape\n",
    "    offsets = np.empty((height, width, 2), dtype=np.float32)\n",
    "    costs = np.empty((height, width), dtype=np.float32)\n",
    "\n",
    "    PATCHMATCH_SIZE = 8\n",
    "    MAX_OFFSET = 100\n",
    "    MIN_OFFSET = 10\n",
    "    pm.pm(source_img.astype(np.float32),\n",
    "          target_img.astype(np.float32),\n",
    "          offsets,\n",
    "          costs,\n",
    "          PATCHMATCH_SIZE,\n",
    "          MIN_OFFSET,\n",
    "          MAX_OFFSET)\n",
    "\n",
    "    return offsets[:, :, ::-1]"
   ]
  },
  {
   "cell_type": "code",
   "execution_count": 19,
   "metadata": {},
   "outputs": [],
   "source": [
    "imgs = []\n",
    "img = imageio.imread('bike_a.png')\n",
    "img = (img / 255).astype(np.float64)\n",
    "imgs.append(img)\n",
    "img = imageio.imread('bike_b.png')\n",
    "img = (img / 255).astype(np.float64)\n",
    "imgs.append(img)\n",
    "# lib_offsets = patch_match(imgs[0], imgs[1])\n",
    "# np.save('lib_offset.npy', lib_offsets)\n",
    "lib_offsets = np.load('lib_offset.npy')"
   ]
  },
  {
   "cell_type": "code",
   "execution_count": 20,
   "metadata": {},
   "outputs": [],
   "source": [
    "import os\n",
    "\n",
    "import pyopencl as cl\n",
    "\n",
    "os.environ['PYOPENCL_NO_CACHE'] = '1'\n",
    "os.environ['PYOPENCL_NO_CACHE'] = '1'\n",
    "os.environ[\"PYOPENCL_COMPILER_OUTPUT\"] = \"1\"\n",
    "\n",
    "filename = 'patchmatch.c'\n",
    "PATCH_SIZE = 8\n",
    "\n",
    "\n",
    "HEIGHT, WIDTH, _ = img.shape\n",
    "ctx = cl.create_some_context(False)\n",
    "queue = cl.CommandQueue(ctx)\n",
    "mf = cl.mem_flags\n",
    "program = cl.Program(ctx, open(filename).read()).build()\n",
    "\n",
    "# NNF_HEIGHT = HEIGHT - (HEIGHT % PATCH_SIZE)\n",
    "# NNF_WIDTH = WIDTH - (WIDTH % PATCH_SIZE)\n",
    "NNF_HEIGHT = HEIGHT - PATCH_SIZE\n",
    "NNF_WIDTH = WIDTH - PATCH_SIZE\n",
    "nnf = np.empty((NNF_HEIGHT, NNF_WIDTH, 3))"
   ]
  },
  {
   "cell_type": "code",
   "execution_count": 21,
   "metadata": {
    "scrolled": true
   },
   "outputs": [],
   "source": [
    "inputBuf = [cl.Buffer(ctx, mf.READ_ONLY | mf.COPY_HOST_PTR, hostbuf=imgs[i]) for i in range(2)]\n",
    "outputBuf = cl.Buffer(ctx, mf.WRITE_ONLY | mf.COPY_HOST_PTR, nnf.nbytes, hostbuf=nnf)\n",
    "\n",
    "GLOBAL_SIZE = (NNF_HEIGHT, NNF_WIDTH)\n",
    "program.randomfill(queue, GLOBAL_SIZE, None,\n",
    "                                np.int32(PATCH_SIZE),  # patchHeight\n",
    "                                np.int32(PATCH_SIZE),  # patchWidth\n",
    "                                np.int32(HEIGHT),  # height\n",
    "                                np.int32(WIDTH),  # width\n",
    "                                inputBuf[0],\n",
    "                                inputBuf[1],\n",
    "                                outputBuf)\n",
    "\n",
    "\n",
    "init_nnf = np.empty_like(nnf)\n",
    "cl.enqueue_copy(queue, init_nnf, outputBuf)\n",
    "nnf = np.copy(init_nnf)"
   ]
  },
  {
   "cell_type": "code",
   "execution_count": 22,
   "metadata": {},
   "outputs": [],
   "source": [
    "# mf = cl.mem_flags\n",
    "\n",
    "for i in range(1):\n",
    "    mf = cl.mem_flags\n",
    "    inputBuf = [cl.Buffer(ctx, mf.READ_ONLY | mf.COPY_HOST_PTR, hostbuf=imgs[i]) for i in range(2)]\n",
    "    outputBuf = cl.Buffer(ctx, mf.READ_WRITE | mf.COPY_HOST_PTR, nnf.nbytes, hostbuf=nnf)\n",
    "\n",
    "    ITER = i + 1\n",
    "    program.propagate(queue, GLOBAL_SIZE, None,\n",
    "                                   np.int32(PATCH_SIZE),  # patchHeight\n",
    "                                   np.int32(PATCH_SIZE),  # patchWidth\n",
    "                                   np.int32(HEIGHT),  # height\n",
    "                                   np.int32(WIDTH),  # width\n",
    "                                   np.int32(ITER),\n",
    "                                   inputBuf[0],\n",
    "                                   inputBuf[1],\n",
    "                                   outputBuf)\n",
    "\n",
    "\n",
    "    output_nnf = np.empty_like(nnf)\n",
    "    cl.enqueue_copy(queue, output_nnf, outputBuf)\n",
    "    nnf = output_nnf.copy()"
   ]
  },
  {
   "cell_type": "code",
   "execution_count": 23,
   "metadata": {},
   "outputs": [
    {
     "data": {
      "text/plain": [
       "array([[[ 10,   2,   3],\n",
       "        [ 10,   3,   2],\n",
       "        [  9,   8,   0],\n",
       "        ...,\n",
       "        [ 19, 210,   0],\n",
       "        [ 19, 211,   0],\n",
       "        [ 19, 206,   0]],\n",
       "\n",
       "       [[  7,  10,   0],\n",
       "        [  7,  11,   0],\n",
       "        [  7,  12,   0],\n",
       "        ...,\n",
       "        [ 20, 210,   0],\n",
       "        [ 20, 211,   0],\n",
       "        [ 20, 206,   0]],\n",
       "\n",
       "       [[  8,  10,   0],\n",
       "        [  8,  11,   0],\n",
       "        [  8,  12,   0],\n",
       "        ...,\n",
       "        [ 21, 194,   0],\n",
       "        [ 21, 195,   0],\n",
       "        [ 21, 206,   0]],\n",
       "\n",
       "       ...,\n",
       "\n",
       "       [[153,   2,   0],\n",
       "        [163,  14,   0],\n",
       "        [164,  12,   0],\n",
       "        ...,\n",
       "        [ 93, 213,   0],\n",
       "        [ 93, 214,   0],\n",
       "        [ 93, 215,   0]],\n",
       "\n",
       "       [[145,  11,   0],\n",
       "        [164,  14,   0],\n",
       "        [165,  12,   0],\n",
       "        ...,\n",
       "        [ 94, 213,   0],\n",
       "        [ 94, 214,   0],\n",
       "        [ 94, 215,   0]],\n",
       "\n",
       "       [[146,  11,   0],\n",
       "        [165,  14,   0],\n",
       "        [166,  12,   0],\n",
       "        ...,\n",
       "        [ 95, 213,   0],\n",
       "        [ 95, 214,   0],\n",
       "        [ 95, 215,   0]]])"
      ]
     },
     "execution_count": 23,
     "metadata": {},
     "output_type": "execute_result"
    }
   ],
   "source": [
    "nnf.astype(np.int)"
   ]
  },
  {
   "cell_type": "code",
   "execution_count": 24,
   "metadata": {
    "scrolled": true
   },
   "outputs": [
    {
     "data": {
      "text/plain": [
       "array([[[1.00000000e+01, 2.00000000e+00, 3.03730873e+00],\n",
       "        [1.00000000e+01, 3.00000000e+00, 2.00692042e+00],\n",
       "        [9.00000000e+00, 8.00000000e+00, 2.00445982e-01],\n",
       "        ...,\n",
       "        [1.90000000e+01, 2.10000000e+02, 3.12341407e-02],\n",
       "        [1.90000000e+01, 2.11000000e+02, 3.30180700e-02],\n",
       "        [1.90000000e+01, 2.06000000e+02, 2.32218378e-02]],\n",
       "\n",
       "       [[7.00000000e+00, 1.00000000e+01, 1.62106882e-01],\n",
       "        [7.00000000e+00, 1.10000000e+01, 2.01768551e-02],\n",
       "        [7.00000000e+00, 1.20000000e+01, 1.12402922e-01],\n",
       "        ...,\n",
       "        [2.00000000e+01, 2.10000000e+02, 3.89542484e-02],\n",
       "        [2.00000000e+01, 2.11000000e+02, 4.03383314e-02],\n",
       "        [2.00000000e+01, 2.06000000e+02, 2.87889273e-02]],\n",
       "\n",
       "       [[8.00000000e+00, 1.00000000e+01, 1.68289120e-01],\n",
       "        [8.00000000e+00, 1.10000000e+01, 3.35409458e-02],\n",
       "        [8.00000000e+00, 1.20000000e+01, 3.46251442e-01],\n",
       "        ...,\n",
       "        [2.10000000e+01, 1.94000000e+02, 6.42983468e-02],\n",
       "        [2.10000000e+01, 1.95000000e+02, 6.33602461e-02],\n",
       "        [2.10000000e+01, 2.06000000e+02, 5.89619377e-02]],\n",
       "\n",
       "       ...,\n",
       "\n",
       "       [[1.53000000e+02, 2.00000000e+00, 2.26051519e-01],\n",
       "        [1.63000000e+02, 1.40000000e+01, 5.66089965e-02],\n",
       "        [1.64000000e+02, 1.20000000e+01, 2.24221453e-02],\n",
       "        ...,\n",
       "        [9.30000000e+01, 2.13000000e+02, 4.35586313e-01],\n",
       "        [9.30000000e+01, 2.14000000e+02, 4.36416763e-01],\n",
       "        [9.30000000e+01, 2.15000000e+02, 4.39569396e-01]],\n",
       "\n",
       "       [[1.45000000e+02, 1.10000000e+01, 1.63337178e-01],\n",
       "        [1.64000000e+02, 1.40000000e+01, 4.73202614e-02],\n",
       "        [1.65000000e+02, 1.20000000e+01, 1.91464821e-02],\n",
       "        ...,\n",
       "        [9.40000000e+01, 2.13000000e+02, 4.95594002e-01],\n",
       "        [9.40000000e+01, 2.14000000e+02, 4.84090734e-01],\n",
       "        [9.40000000e+01, 2.15000000e+02, 4.73540946e-01]],\n",
       "\n",
       "       [[1.46000000e+02, 1.10000000e+01, 1.50311419e-01],\n",
       "        [1.65000000e+02, 1.40000000e+01, 4.40753556e-02],\n",
       "        [1.66000000e+02, 1.20000000e+01, 1.73317955e-02],\n",
       "        ...,\n",
       "        [9.50000000e+01, 2.13000000e+02, 5.66551326e-01],\n",
       "        [9.50000000e+01, 2.14000000e+02, 5.53356401e-01],\n",
       "        [9.50000000e+01, 2.15000000e+02, 5.40730488e-01]]])"
      ]
     },
     "execution_count": 24,
     "metadata": {},
     "output_type": "execute_result"
    }
   ],
   "source": [
    "tmp = nnf.copy()\n",
    "tmp"
   ]
  },
  {
   "cell_type": "code",
   "execution_count": 25,
   "metadata": {},
   "outputs": [
    {
     "data": {
      "text/plain": [
       "array([[[ 10,   2,   3],\n",
       "        [ 10,   3,   2],\n",
       "        [  9,   8,   0],\n",
       "        ...,\n",
       "        [ 19, 210,   0],\n",
       "        [ 19, 211,   0],\n",
       "        [ 19, 206,   0]],\n",
       "\n",
       "       [[  7,  10,   0],\n",
       "        [  7,  11,   0],\n",
       "        [  7,  12,   0],\n",
       "        ...,\n",
       "        [ 20, 210,   0],\n",
       "        [ 20, 211,   0],\n",
       "        [ 20, 206,   0]],\n",
       "\n",
       "       [[  8,  10,   0],\n",
       "        [  8,  11,   0],\n",
       "        [  8,  12,   0],\n",
       "        ...,\n",
       "        [ 21, 194,   0],\n",
       "        [ 21, 195,   0],\n",
       "        [ 21, 206,   0]],\n",
       "\n",
       "       ...,\n",
       "\n",
       "       [[153,   2,   0],\n",
       "        [163,  14,   0],\n",
       "        [164,  12,   0],\n",
       "        ...,\n",
       "        [ 93, 213,   0],\n",
       "        [ 93, 214,   0],\n",
       "        [ 93, 215,   0]],\n",
       "\n",
       "       [[145,  11,   0],\n",
       "        [164,  14,   0],\n",
       "        [165,  12,   0],\n",
       "        ...,\n",
       "        [ 94, 213,   0],\n",
       "        [ 94, 214,   0],\n",
       "        [ 94, 215,   0]],\n",
       "\n",
       "       [[146,  11,   0],\n",
       "        [165,  14,   0],\n",
       "        [166,  12,   0],\n",
       "        ...,\n",
       "        [ 95, 213,   0],\n",
       "        [ 95, 214,   0],\n",
       "        [ 95, 215,   0]]])"
      ]
     },
     "execution_count": 25,
     "metadata": {},
     "output_type": "execute_result"
    }
   ],
   "source": [
    "nnf.astype(np.int)"
   ]
  },
  {
   "cell_type": "code",
   "execution_count": 26,
   "metadata": {},
   "outputs": [],
   "source": [
    "grids = np.meshgrid(np.arange(NNF_WIDTH), np.arange(NNF_HEIGHT), indexing=\"xy\")\n",
    "cord = np.concatenate((grids[1][..., np.newaxis], grids[0][..., np.newaxis]), axis=2)"
   ]
  },
  {
   "cell_type": "code",
   "execution_count": 40,
   "metadata": {
    "scrolled": true
   },
   "outputs": [],
   "source": [
    "a = nnf[:, :, :2] - cord"
   ]
  },
  {
   "cell_type": "code",
   "execution_count": 41,
   "metadata": {
    "scrolled": false
   },
   "outputs": [
    {
     "data": {
      "text/plain": [
       "array([[[  8,   6],\n",
       "        [ 12,   7],\n",
       "        [ 12,   7],\n",
       "        ...,\n",
       "        [  2,  10],\n",
       "        [ 24, -35],\n",
       "        [ 24, -35]],\n",
       "\n",
       "       [[  8,   6],\n",
       "        [ 12,   7],\n",
       "        [ 12,   7],\n",
       "        ...,\n",
       "        [  2,  10],\n",
       "        [ 24, -35],\n",
       "        [ 24, -35]],\n",
       "\n",
       "       [[  8,   6],\n",
       "        [  8,   6],\n",
       "        [ 12,   7],\n",
       "        ...,\n",
       "        [  2,  10],\n",
       "        [ 24, -35],\n",
       "        [ 24, -35]],\n",
       "\n",
       "       ...,\n",
       "\n",
       "       [[-21,   0],\n",
       "        [-21,   0],\n",
       "        [-21,   0],\n",
       "        ...,\n",
       "        [  9,   6],\n",
       "        [  9,   6],\n",
       "        [  9,   6]],\n",
       "\n",
       "       [[-21,   0],\n",
       "        [-21,   0],\n",
       "        [-21,   0],\n",
       "        ...,\n",
       "        [  9,   6],\n",
       "        [  9,   6],\n",
       "        [  9,   6]],\n",
       "\n",
       "       [[-21,   0],\n",
       "        [-21,   0],\n",
       "        [-21,   0],\n",
       "        ...,\n",
       "        [  5,   9],\n",
       "        [  5,   9],\n",
       "        [-63,   0]]])"
      ]
     },
     "execution_count": 41,
     "metadata": {},
     "output_type": "execute_result"
    }
   ],
   "source": [
    "lib_offsets.astype(np.int)[:NNF_HEIGHT, :NNF_WIDTH]"
   ]
  },
  {
   "cell_type": "code",
   "execution_count": 42,
   "metadata": {},
   "outputs": [
    {
     "data": {
      "text/plain": [
       "(array([159]), array([229]), array([1]))"
      ]
     },
     "execution_count": 42,
     "metadata": {},
     "output_type": "execute_result"
    }
   ],
   "source": [
    "np.where(a == -217)"
   ]
  },
  {
   "cell_type": "code",
   "execution_count": 43,
   "metadata": {},
   "outputs": [
    {
     "data": {
      "text/plain": [
       "(167, 231)"
      ]
     },
     "execution_count": 43,
     "metadata": {},
     "output_type": "execute_result"
    }
   ],
   "source": [
    "NNF_HEIGHT, NNF_WIDTH"
   ]
  },
  {
   "cell_type": "code",
   "execution_count": 44,
   "metadata": {},
   "outputs": [
    {
     "data": {
      "text/plain": [
       "(167, 231, 2)"
      ]
     },
     "execution_count": 44,
     "metadata": {},
     "output_type": "execute_result"
    }
   ],
   "source": [
    "a.shape"
   ]
  },
  {
   "cell_type": "code",
   "execution_count": 45,
   "metadata": {
    "scrolled": true
   },
   "outputs": [
    {
     "data": {
      "text/plain": [
       "array([[[ 10,   2,   3],\n",
       "        [ 10,   3,   2],\n",
       "        [  9,   8,   0],\n",
       "        ...,\n",
       "        [ 19, 210,   0],\n",
       "        [ 19, 211,   0],\n",
       "        [ 19, 206,   0]],\n",
       "\n",
       "       [[  7,  10,   0],\n",
       "        [  7,  11,   0],\n",
       "        [  7,  12,   0],\n",
       "        ...,\n",
       "        [ 20, 210,   0],\n",
       "        [ 20, 211,   0],\n",
       "        [ 20, 206,   0]],\n",
       "\n",
       "       [[  8,  10,   0],\n",
       "        [  8,  11,   0],\n",
       "        [  8,  12,   0],\n",
       "        ...,\n",
       "        [ 21, 194,   0],\n",
       "        [ 21, 195,   0],\n",
       "        [ 21, 206,   0]],\n",
       "\n",
       "       ...,\n",
       "\n",
       "       [[153,   2,   0],\n",
       "        [163,  14,   0],\n",
       "        [164,  12,   0],\n",
       "        ...,\n",
       "        [ 93, 213,   0],\n",
       "        [ 93, 214,   0],\n",
       "        [ 93, 215,   0]],\n",
       "\n",
       "       [[145,  11,   0],\n",
       "        [164,  14,   0],\n",
       "        [165,  12,   0],\n",
       "        ...,\n",
       "        [ 94, 213,   0],\n",
       "        [ 94, 214,   0],\n",
       "        [ 94, 215,   0]],\n",
       "\n",
       "       [[146,  11,   0],\n",
       "        [165,  14,   0],\n",
       "        [166,  12,   0],\n",
       "        ...,\n",
       "        [ 95, 213,   0],\n",
       "        [ 95, 214,   0],\n",
       "        [ 95, 215,   0]]])"
      ]
     },
     "execution_count": 45,
     "metadata": {},
     "output_type": "execute_result"
    }
   ],
   "source": [
    "output_nnf.astype(np.int)"
   ]
  },
  {
   "cell_type": "code",
   "execution_count": 46,
   "metadata": {},
   "outputs": [
    {
     "data": {
      "text/plain": [
       "-100.0"
      ]
     },
     "execution_count": 46,
     "metadata": {},
     "output_type": "execute_result"
    }
   ],
   "source": [
    "np.min(lib_offsets)"
   ]
  },
  {
   "cell_type": "code",
   "execution_count": 47,
   "metadata": {},
   "outputs": [
    {
     "data": {
      "text/plain": [
       "array([[[1.00000000e+01, 2.00000000e+00, 3.03730873e+00],\n",
       "        [1.00000000e+01, 3.00000000e+00, 2.00692042e+00],\n",
       "        [9.00000000e+00, 8.00000000e+00, 2.00445982e-01],\n",
       "        ...,\n",
       "        [1.90000000e+01, 2.10000000e+02, 3.12341407e-02],\n",
       "        [1.90000000e+01, 2.11000000e+02, 3.30180700e-02],\n",
       "        [1.90000000e+01, 2.06000000e+02, 2.32218378e-02]],\n",
       "\n",
       "       [[7.00000000e+00, 1.00000000e+01, 1.62106882e-01],\n",
       "        [7.00000000e+00, 1.10000000e+01, 2.01768551e-02],\n",
       "        [7.00000000e+00, 1.20000000e+01, 1.12402922e-01],\n",
       "        ...,\n",
       "        [2.00000000e+01, 2.10000000e+02, 3.89542484e-02],\n",
       "        [2.00000000e+01, 2.11000000e+02, 4.03383314e-02],\n",
       "        [2.00000000e+01, 2.06000000e+02, 2.87889273e-02]],\n",
       "\n",
       "       [[8.00000000e+00, 1.00000000e+01, 1.68289120e-01],\n",
       "        [8.00000000e+00, 1.10000000e+01, 3.35409458e-02],\n",
       "        [8.00000000e+00, 1.20000000e+01, 3.46251442e-01],\n",
       "        ...,\n",
       "        [2.10000000e+01, 1.94000000e+02, 6.42983468e-02],\n",
       "        [2.10000000e+01, 1.95000000e+02, 6.33602461e-02],\n",
       "        [2.10000000e+01, 2.06000000e+02, 5.89619377e-02]],\n",
       "\n",
       "       ...,\n",
       "\n",
       "       [[1.53000000e+02, 2.00000000e+00, 2.26051519e-01],\n",
       "        [1.63000000e+02, 1.40000000e+01, 5.66089965e-02],\n",
       "        [1.64000000e+02, 1.20000000e+01, 2.24221453e-02],\n",
       "        ...,\n",
       "        [9.30000000e+01, 2.13000000e+02, 4.35586313e-01],\n",
       "        [9.30000000e+01, 2.14000000e+02, 4.36416763e-01],\n",
       "        [9.30000000e+01, 2.15000000e+02, 4.39569396e-01]],\n",
       "\n",
       "       [[1.45000000e+02, 1.10000000e+01, 1.63337178e-01],\n",
       "        [1.64000000e+02, 1.40000000e+01, 4.73202614e-02],\n",
       "        [1.65000000e+02, 1.20000000e+01, 1.91464821e-02],\n",
       "        ...,\n",
       "        [9.40000000e+01, 2.13000000e+02, 4.95594002e-01],\n",
       "        [9.40000000e+01, 2.14000000e+02, 4.84090734e-01],\n",
       "        [9.40000000e+01, 2.15000000e+02, 4.73540946e-01]],\n",
       "\n",
       "       [[1.46000000e+02, 1.10000000e+01, 1.50311419e-01],\n",
       "        [1.65000000e+02, 1.40000000e+01, 4.40753556e-02],\n",
       "        [1.66000000e+02, 1.20000000e+01, 1.73317955e-02],\n",
       "        ...,\n",
       "        [9.50000000e+01, 2.13000000e+02, 5.66551326e-01],\n",
       "        [9.50000000e+01, 2.14000000e+02, 5.53356401e-01],\n",
       "        [9.50000000e+01, 2.15000000e+02, 5.40730488e-01]]])"
      ]
     },
     "execution_count": 47,
     "metadata": {},
     "output_type": "execute_result"
    }
   ],
   "source": [
    "nnf"
   ]
  },
  {
   "cell_type": "code",
   "execution_count": 48,
   "metadata": {
    "scrolled": true
   },
   "outputs": [
    {
     "data": {
      "text/plain": [
       "array([119.        , 197.        ,   2.83793925])"
      ]
     },
     "execution_count": 48,
     "metadata": {},
     "output_type": "execute_result"
    }
   ],
   "source": [
    "nnf[100, 200]"
   ]
  },
  {
   "cell_type": "code",
   "execution_count": 49,
   "metadata": {},
   "outputs": [
    {
     "data": {
      "text/plain": [
       "array([15., -9.], dtype=float32)"
      ]
     },
     "execution_count": 49,
     "metadata": {},
     "output_type": "execute_result"
    }
   ],
   "source": [
    "lib_offsets[100, 210]"
   ]
  },
  {
   "cell_type": "code",
   "execution_count": 50,
   "metadata": {},
   "outputs": [
    {
     "data": {
      "text/plain": [
       "Array([0.27843137, 0.21176471, 0.29019608])"
      ]
     },
     "execution_count": 50,
     "metadata": {},
     "output_type": "execute_result"
    }
   ],
   "source": [
    "imgs[0][100, 200]"
   ]
  },
  {
   "cell_type": "code",
   "execution_count": 54,
   "metadata": {},
   "outputs": [
    {
     "data": {
      "text/plain": [
       "Array([0.18823529, 0.12156863, 0.19215686])"
      ]
     },
     "execution_count": 54,
     "metadata": {},
     "output_type": "execute_result"
    }
   ],
   "source": [
    "imgs[1][119, 197]"
   ]
  },
  {
   "cell_type": "code",
   "execution_count": 52,
   "metadata": {},
   "outputs": [
    {
     "data": {
      "text/plain": [
       "Array([0.56470588, 0.49411765, 0.43137255])"
      ]
     },
     "execution_count": 52,
     "metadata": {},
     "output_type": "execute_result"
    }
   ],
   "source": [
    "imgs[1][115, 201]"
   ]
  },
  {
   "cell_type": "code",
   "execution_count": 53,
   "metadata": {},
   "outputs": [
    {
     "data": {
      "text/plain": [
       "(175, 239, 3)"
      ]
     },
     "execution_count": 53,
     "metadata": {},
     "output_type": "execute_result"
    }
   ],
   "source": [
    "imgs[0].shape"
   ]
  },
  {
   "cell_type": "code",
   "execution_count": null,
   "metadata": {},
   "outputs": [],
   "source": []
  }
 ],
 "metadata": {
  "kernelspec": {
   "display_name": "Python 3",
   "language": "python",
   "name": "python3"
  },
  "language_info": {
   "codemirror_mode": {
    "name": "ipython",
    "version": 3
   },
   "file_extension": ".py",
   "mimetype": "text/x-python",
   "name": "python",
   "nbconvert_exporter": "python",
   "pygments_lexer": "ipython3",
   "version": "3.7.2"
  }
 },
 "nbformat": 4,
 "nbformat_minor": 2
}
