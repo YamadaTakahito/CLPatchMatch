{
 "cells": [
  {
   "cell_type": "code",
   "execution_count": 1,
   "metadata": {},
   "outputs": [
    {
     "name": "stderr",
     "output_type": "stream",
     "text": [
      "/usr/local/Cellar/python/3.7.2/Frameworks/Python.framework/Versions/3.7/lib/python3.7/importlib/_bootstrap.py:219: RuntimeWarning: compiletime version 3.6 of module 'patchmatch' does not match runtime version 3.7\n",
      "  return f(*args, **kwds)\n"
     ]
    }
   ],
   "source": [
    "import patchmatch as pm\n",
    "import imageio\n",
    "\n",
    "import numpy as np"
   ]
  },
  {
   "cell_type": "code",
   "execution_count": 2,
   "metadata": {},
   "outputs": [],
   "source": [
    "def patch_match(source_img, target_img):\n",
    "    height, width, _ = source_img.shape\n",
    "    offsets = np.empty((height, width, 2), dtype=np.float32)\n",
    "    costs = np.empty((height, width), dtype=np.float32)\n",
    "\n",
    "    PATCHMATCH_SIZE = 8\n",
    "    MAX_OFFSET = 100\n",
    "    MIN_OFFSET = 10\n",
    "    pm.pm(source_img.astype(np.float32),\n",
    "          target_img.astype(np.float32),\n",
    "          offsets,\n",
    "          costs,\n",
    "          PATCHMATCH_SIZE,\n",
    "          MIN_OFFSET,\n",
    "          MAX_OFFSET)\n",
    "\n",
    "    return offsets[:, :, ::-1]"
   ]
  },
  {
   "cell_type": "code",
   "execution_count": 3,
   "metadata": {},
   "outputs": [],
   "source": [
    "imgs = []\n",
    "img = imageio.imread('bike_a.png')\n",
    "img = (img / 255).astype(np.float64)\n",
    "imgs.append(img)\n",
    "img = imageio.imread('bike_b.png')\n",
    "img = (img / 255).astype(np.float64)\n",
    "imgs.append(img)\n",
    "# lib_offsets = patch_match(imgs[0], imgs[1])\n",
    "# np.save('lib_offset.npy', lib_offsets)\n",
    "lib_offsets = np.load('lib_offset.npy')"
   ]
  },
  {
   "cell_type": "code",
   "execution_count": 4,
   "metadata": {},
   "outputs": [],
   "source": [
    "import os\n",
    "\n",
    "import pyopencl as cl\n",
    "\n",
    "os.environ['PYOPENCL_NO_CACHE'] = '1'\n",
    "os.environ['PYOPENCL_NO_CACHE'] = '1'\n",
    "os.environ[\"PYOPENCL_COMPILER_OUTPUT\"] = \"1\"\n",
    "\n",
    "filename = 'patchmatch.c'\n",
    "PATCH_SIZE = 8\n",
    "\n",
    "\n",
    "HEIGHT, WIDTH, _ = img.shape\n",
    "ctx = cl.create_some_context(False)\n",
    "queue = cl.CommandQueue(ctx)\n",
    "mf = cl.mem_flags\n",
    "program = cl.Program(ctx, open(filename).read()).build()\n",
    "\n",
    "# NNF_HEIGHT = HEIGHT - (HEIGHT % PATCH_SIZE)\n",
    "# NNF_WIDTH = WIDTH - (WIDTH % PATCH_SIZE)\n",
    "NNF_HEIGHT = HEIGHT - PATCH_SIZE\n",
    "NNF_WIDTH = WIDTH - PATCH_SIZE\n",
    "nnf = np.empty((NNF_HEIGHT, NNF_WIDTH, 3))"
   ]
  },
  {
   "cell_type": "code",
   "execution_count": null,
   "metadata": {
    "scrolled": true
   },
   "outputs": [],
   "source": [
    "inputBuf = [cl.Buffer(ctx, mf.READ_ONLY | mf.COPY_HOST_PTR, hostbuf=imgs[i]) for i in range(2)]\n",
    "outputBuf = cl.Buffer(ctx, mf.WRITE_ONLY | mf.COPY_HOST_PTR, nnf.nbytes, hostbuf=nnf)\n",
    "\n",
    "GLOBAL_SIZE = (NNF_HEIGHT, NNF_WIDTH)\n",
    "program.randomfill(queue, GLOBAL_SIZE, None,\n",
    "                                np.int32(PATCH_SIZE),  # patchHeight\n",
    "                                np.int32(PATCH_SIZE),  # patchWidth\n",
    "                                np.int32(HEIGHT),  # height\n",
    "                                np.int32(WIDTH),  # width\n",
    "                                inputBuf[0],\n",
    "                                inputBuf[1],\n",
    "                                outputBuf)\n",
    "\n",
    "\n",
    "init_nnf = np.empty_like(nnf)\n",
    "cl.enqueue_copy(queue, init_nnf, outputBuf)\n",
    "nnf = np.copy(init_nnf)"
   ]
  },
  {
   "cell_type": "code",
   "execution_count": null,
   "metadata": {},
   "outputs": [],
   "source": [
    "# mf = cl.mem_flags\n",
    "\n",
    "for i in range(20):\n",
    "    mf = cl.mem_flags\n",
    "    inputBuf = [cl.Buffer(ctx, mf.READ_ONLY | mf.COPY_HOST_PTR, hostbuf=imgs[i]) for i in range(2)]\n",
    "    outputBuf = cl.Buffer(ctx, mf.READ_WRITE | mf.COPY_HOST_PTR, nnf.nbytes, hostbuf=nnf)\n",
    "\n",
    "    ITER = i + 1\n",
    "    program.propagate(queue, GLOBAL_SIZE, None,\n",
    "                                   np.int32(PATCH_SIZE),  # patchHeight\n",
    "                                   np.int32(PATCH_SIZE),  # patchWidth\n",
    "                                   np.int32(HEIGHT),  # height\n",
    "                                   np.int32(WIDTH),  # width\n",
    "                                   np.int32(ITER),\n",
    "                                   inputBuf[0],\n",
    "                                   inputBuf[1],\n",
    "                                   outputBuf)\n",
    "\n",
    "\n",
    "    output_nnf = np.empty_like(nnf)\n",
    "    cl.enqueue_copy(queue, output_nnf, outputBuf)\n",
    "    nnf = output_nnf.copy()"
   ]
  },
  {
   "cell_type": "code",
   "execution_count": null,
   "metadata": {
    "scrolled": true
   },
   "outputs": [],
   "source": [
    "tmp = nnf.copy()\n",
    "tmp"
   ]
  },
  {
   "cell_type": "code",
   "execution_count": null,
   "metadata": {},
   "outputs": [],
   "source": [
    "nnf.astype(np.int)"
   ]
  },
  {
   "cell_type": "code",
   "execution_count": null,
   "metadata": {},
   "outputs": [],
   "source": [
    "grids = np.meshgrid(np.arange(NNF_WIDTH), np.arange(NNF_HEIGHT), indexing=\"xy\")\n",
    "cord = np.concatenate((grids[1][..., np.newaxis], grids[0][..., np.newaxis]), axis=2)"
   ]
  },
  {
   "cell_type": "code",
   "execution_count": null,
   "metadata": {
    "scrolled": true
   },
   "outputs": [],
   "source": [
    "a = nnf[:, :, :2] - cord\n",
    "a - lib_offsets.astype(np.int)[:NNF_HEIGHT, :NNF_WIDTH]"
   ]
  },
  {
   "cell_type": "code",
   "execution_count": null,
   "metadata": {
    "scrolled": true
   },
   "outputs": [],
   "source": [
    "lib_offsets.astype(np.int)[:NNF_HEIGHT, :NNF_WIDTH]"
   ]
  },
  {
   "cell_type": "code",
   "execution_count": null,
   "metadata": {},
   "outputs": [],
   "source": [
    "output_nnf.astype(np.int)"
   ]
  },
  {
   "cell_type": "code",
   "execution_count": null,
   "metadata": {},
   "outputs": [],
   "source": [
    "nnf"
   ]
  },
  {
   "cell_type": "code",
   "execution_count": null,
   "metadata": {
    "scrolled": true
   },
   "outputs": [],
   "source": [
    "nnf[100, 200]"
   ]
  },
  {
   "cell_type": "code",
   "execution_count": null,
   "metadata": {},
   "outputs": [],
   "source": [
    "lib_offsets[100, 210]"
   ]
  },
  {
   "cell_type": "code",
   "execution_count": null,
   "metadata": {},
   "outputs": [],
   "source": [
    "imgs[0][100, 200]"
   ]
  },
  {
   "cell_type": "code",
   "execution_count": null,
   "metadata": {},
   "outputs": [],
   "source": [
    "imgs[1][114, 207]"
   ]
  },
  {
   "cell_type": "code",
   "execution_count": null,
   "metadata": {},
   "outputs": [],
   "source": [
    "imgs[1][115, 201]"
   ]
  },
  {
   "cell_type": "code",
   "execution_count": null,
   "metadata": {},
   "outputs": [],
   "source": [
    "imgs[0].shape"
   ]
  },
  {
   "cell_type": "code",
   "execution_count": null,
   "metadata": {},
   "outputs": [],
   "source": []
  }
 ],
 "metadata": {
  "kernelspec": {
   "display_name": "Python 3",
   "language": "python",
   "name": "python3"
  },
  "language_info": {
   "codemirror_mode": {
    "name": "ipython",
    "version": 3
   },
   "file_extension": ".py",
   "mimetype": "text/x-python",
   "name": "python",
   "nbconvert_exporter": "python",
   "pygments_lexer": "ipython3",
   "version": "3.7.2"
  }
 },
 "nbformat": 4,
 "nbformat_minor": 2
}
